{
  "nbformat": 4,
  "nbformat_minor": 0,
  "metadata": {
    "colab": {
      "name": "Workshop_Data_Types.ipynb",
      "provenance": [],
      "collapsed_sections": [],
      "include_colab_link": true
    },
    "kernelspec": {
      "name": "python3",
      "display_name": "Python 3"
    }
  },
  "cells": [
    {
      "cell_type": "markdown",
      "metadata": {
        "id": "view-in-github",
        "colab_type": "text"
      },
      "source": [
        "<a href=\"https://colab.research.google.com/github/fd-journey/journey/blob/main/Workshop_Data_Types_figs.ipynb\" target=\"_parent\"><img src=\"https://colab.research.google.com/assets/colab-badge.svg\" alt=\"Open In Colab\"/></a>"
      ]
    },
    {
      "cell_type": "markdown",
      "metadata": {
        "id": "P1VKvLU7wnqO"
      },
      "source": [
        "**Frederic Daoud**\r\n",
        "frederic.daoud@gmail.com"
      ]
    },
    {
      "cell_type": "markdown",
      "metadata": {
        "id": "ud7hwCWB9YO1"
      },
      "source": [
        "#**NOTE:**\r\n",
        "Please insert a text cell at the top of the Notebook with your **Full Name** in Bold and your email that you use for *both Journey and Github*\r\n",
        "\r\n",
        "Also, add to the title of the notebook, an underscore as well as your favourite fruit beside it. \r\n",
        "\r\n",
        "Ex. 'Workshop_Data_Types_Grapes'"
      ]
    },
    {
      "cell_type": "markdown",
      "metadata": {
        "id": "UXL9hpom_zZ_"
      },
      "source": [
        "#Warm Up\r\n",
        "\r\n",
        "In the cell below, import numpy and name it 'np' and create a list with the data types that were mentioned during a lecture as strings and store the result as \"types\"\r\n",
        "Ex.\r\n",
        "\r\n",
        "\r\n",
        "```\r\n",
        "import ... as ...\r\n",
        "types = [...]\r\n",
        "```\r\n",
        "\r\n"
      ]
    },
    {
      "cell_type": "code",
      "metadata": {
        "id": "73PCVrZFUXTD"
      },
      "source": [
        "import numpy as np\r\n",
        "types = [\"A\",\"3.1\",\"3\",\"True\"]\r\n"
      ],
      "execution_count": 2,
      "outputs": []
    },
    {
      "cell_type": "markdown",
      "metadata": {
        "id": "r7yDtDnwARh_"
      },
      "source": [
        "Call the first element in types and slice the last 2 elements in the cell below. Print both results."
      ]
    },
    {
      "cell_type": "code",
      "metadata": {
        "id": "otQW7AvHAbNN",
        "colab": {
          "base_uri": "https://localhost:8080/"
        },
        "outputId": "107cf7c8-c7de-4f9c-c944-b302e1b99a7d"
      },
      "source": [
        "print(types[0])\r\n",
        "print(types[-2:])\r\n"
      ],
      "execution_count": 3,
      "outputs": [
        {
          "output_type": "stream",
          "text": [
            "A\n",
            "['3', 'True']\n"
          ],
          "name": "stdout"
        }
      ]
    },
    {
      "cell_type": "markdown",
      "metadata": {
        "id": "966SjVwbDEq0"
      },
      "source": [
        "Divide by 4, the second element in \"types\" in the code cell below. In the text cell below that, explain why or why not the code was able to execute. (Your explanation does not have to be thorough)"
      ]
    },
    {
      "cell_type": "code",
      "metadata": {
        "id": "rVDgBSgQ9QZz",
        "colab": {
          "base_uri": "https://localhost:8080/",
          "height": 172
        },
        "outputId": "5102c1ad-400e-415d-a471-59852d08663a"
      },
      "source": [
        "types[1] / 4"
      ],
      "execution_count": 4,
      "outputs": [
        {
          "output_type": "error",
          "ename": "TypeError",
          "evalue": "ignored",
          "traceback": [
            "\u001b[0;31m---------------------------------------------------------------------------\u001b[0m",
            "\u001b[0;31mTypeError\u001b[0m                                 Traceback (most recent call last)",
            "\u001b[0;32m<ipython-input-4-684bf2357c88>\u001b[0m in \u001b[0;36m<module>\u001b[0;34m()\u001b[0m\n\u001b[0;32m----> 1\u001b[0;31m \u001b[0mtypes\u001b[0m\u001b[0;34m[\u001b[0m\u001b[0;36m1\u001b[0m\u001b[0;34m]\u001b[0m \u001b[0;34m/\u001b[0m \u001b[0;36m4\u001b[0m\u001b[0;34m\u001b[0m\u001b[0;34m\u001b[0m\u001b[0m\n\u001b[0m",
            "\u001b[0;31mTypeError\u001b[0m: unsupported operand type(s) for /: 'str' and 'int'"
          ]
        }
      ]
    },
    {
      "cell_type": "markdown",
      "metadata": {
        "id": "qKeHsqaxDTQR"
      },
      "source": [
        "Explain here: divide and subtraction operations do not work on string elements. "
      ]
    },
    {
      "cell_type": "markdown",
      "metadata": {
        "id": "TJ1OKy5fDVd1"
      },
      "source": [
        "#Creating Data Containers\r\n",
        "\r\n",
        "In the cells below, create a list, set, tuple and array. \r\n",
        "\r\n",
        "The list (in order) should have any 2 numbers as integers, any 2 numbers as floating point numbers and 2 of your favourite music artists as strings. [6 elements total]. Name this list **'First'** and print it. \r\n",
        "\r\n",
        "The Set (in order) should have 1 even number less than 20 followed by 3 of the first letters of the alphabet as strings in seperate entries. [4 elements total]. Name this set **'Second'** and print it.\r\n",
        "\r\n",
        "The Tuple (in order) should have 6 negative numbers. [6 elements total]. Name this Tuple **'Third'** and print it.\r\n",
        "\r\n",
        "The array (in order) should have the same 6 elements as the tuple but these numbers should be positive. [6 elements total]. Name this array **'Fourth'** and print it."
      ]
    },
    {
      "cell_type": "code",
      "metadata": {
        "id": "PXRY2QW_HviP",
        "colab": {
          "base_uri": "https://localhost:8080/"
        },
        "outputId": "9779cd75-6224-4382-e637-385a9a7175e5"
      },
      "source": [
        "First = [2,3,3.1,4.6,\"Donald Byrd\",\"Lee Burridge\"]\r\n",
        "print(First)"
      ],
      "execution_count": 14,
      "outputs": [
        {
          "output_type": "stream",
          "text": [
            "[2, 3, 3.1, 4.6, 'Donald Byrd', 'Lee Burridge']\n"
          ],
          "name": "stdout"
        }
      ]
    },
    {
      "cell_type": "code",
      "metadata": {
        "id": "widNk7UnHv2a",
        "colab": {
          "base_uri": "https://localhost:8080/"
        },
        "outputId": "1656cd9c-1c90-4db3-831f-39c7b92ce866"
      },
      "source": [
        "Second = {4,\"a\",\"b\",\"c\"}\r\n",
        "print(Second)"
      ],
      "execution_count": 5,
      "outputs": [
        {
          "output_type": "stream",
          "text": [
            "{'b', 'a', 4, 'c'}\n"
          ],
          "name": "stdout"
        }
      ]
    },
    {
      "cell_type": "code",
      "metadata": {
        "id": "rhW-sun-HwFI",
        "colab": {
          "base_uri": "https://localhost:8080/"
        },
        "outputId": "188c495b-a7e1-4e63-8bf1-a4bcadcf7525"
      },
      "source": [
        "Third = (-5,-3,-8,-13,-25,-4)\r\n",
        "print(Third)\r\n"
      ],
      "execution_count": 7,
      "outputs": [
        {
          "output_type": "stream",
          "text": [
            "(-5, -3, -8, -13, -25, -4)\n"
          ],
          "name": "stdout"
        }
      ]
    },
    {
      "cell_type": "code",
      "metadata": {
        "id": "1yKK4z0rHwSA",
        "colab": {
          "base_uri": "https://localhost:8080/"
        },
        "outputId": "cf4c6655-2abd-468b-9909-a8968e12ad72"
      },
      "source": [
        "import numpy as np\r\n",
        "Fourth = np.array(Third) * -1\r\n",
        "print(Fourth)"
      ],
      "execution_count": 8,
      "outputs": [
        {
          "output_type": "stream",
          "text": [
            "[ 5  3  8 13 25  4]\n"
          ],
          "name": "stdout"
        }
      ]
    },
    {
      "cell_type": "markdown",
      "metadata": {
        "id": "PmeI6k0DLIPD"
      },
      "source": [
        "Add together, the second element of 'First', and the last elements of 'Third' and Fourth."
      ]
    },
    {
      "cell_type": "code",
      "metadata": {
        "id": "I_BxRcx3LoC5",
        "colab": {
          "base_uri": "https://localhost:8080/"
        },
        "outputId": "8d0db884-67c2-4f56-fc33-99cb249f72a8"
      },
      "source": [
        "First[1]+Third[-1]+Fourth[-1]"
      ],
      "execution_count": 9,
      "outputs": [
        {
          "output_type": "execute_result",
          "data": {
            "text/plain": [
              "3"
            ]
          },
          "metadata": {
            "tags": []
          },
          "execution_count": 9
        }
      ]
    },
    {
      "cell_type": "markdown",
      "metadata": {
        "id": "Iw6KZ_oxLvJK"
      },
      "source": [
        "Slice the last 3 elements of 'Fourth' and append them to the list 'First'. Print the result."
      ]
    },
    {
      "cell_type": "code",
      "metadata": {
        "id": "a7itEilRLuEb",
        "colab": {
          "base_uri": "https://localhost:8080/"
        },
        "outputId": "e03392a2-4119-47e4-ff63-e43719b9ddb4"
      },
      "source": [
        "First.append(list(Fourth[-3:]))\r\n",
        "print(First)"
      ],
      "execution_count": 16,
      "outputs": [
        {
          "output_type": "stream",
          "text": [
            "[2, 3, 3.1, 4.6, 'Donald Byrd', 'Lee Burridge', [13, 25, 4]]\n"
          ],
          "name": "stdout"
        }
      ]
    },
    {
      "cell_type": "markdown",
      "metadata": {
        "id": "vDYDsGdQL-gY"
      },
      "source": [
        "Create a 3x3 numpy matrix with 5's on the diagonal and 1's everywhere else and name it 'Matrix'. The matrix should look like this:\r\n",
        "\r\n",
        "$$\\begin{bmatrix} 5 & 1 & 1 \\\\ 1 & 5 & 1 \\\\ 1 & 1 & 5 \\end{bmatrix}$$"
      ]
    },
    {
      "cell_type": "code",
      "metadata": {
        "id": "bAJQW9YVMz2-",
        "colab": {
          "base_uri": "https://localhost:8080/"
        },
        "outputId": "c3472e5c-74a9-4586-e086-e39f04f3037d"
      },
      "source": [
        "x = [[5,1,1],[1,5,1],[1,1,5]]\r\n",
        "Matrix = np.array(x)\r\n",
        "print(Matrix)"
      ],
      "execution_count": 18,
      "outputs": [
        {
          "output_type": "stream",
          "text": [
            "[[5 1 1]\n",
            " [1 5 1]\n",
            " [1 1 5]]\n"
          ],
          "name": "stdout"
        }
      ]
    },
    {
      "cell_type": "markdown",
      "metadata": {
        "id": "K10gqABfM4ES"
      },
      "source": [
        "Call the last element in each row of the matrix."
      ]
    },
    {
      "cell_type": "code",
      "metadata": {
        "id": "2VpgbZtaNNVw",
        "colab": {
          "base_uri": "https://localhost:8080/"
        },
        "outputId": "15d27013-3194-4a2b-ce7e-a2b55a217f14"
      },
      "source": [
        "Matrix[:][2]"
      ],
      "execution_count": 19,
      "outputs": [
        {
          "output_type": "execute_result",
          "data": {
            "text/plain": [
              "array([1, 1, 5])"
            ]
          },
          "metadata": {
            "tags": []
          },
          "execution_count": 19
        }
      ]
    },
    {
      "cell_type": "markdown",
      "metadata": {
        "id": "RX55PeiwNNz7"
      },
      "source": [
        "Create a dictionary with the following keys, 'Name', 'Year', 'Music' and 'Food'. The values associated with each key (in order) should be your name, the current year, you favourite genre of music and one of your favourite foods. Name the dictionary 'Me' and print it. "
      ]
    },
    {
      "cell_type": "code",
      "metadata": {
        "id": "TLD8x4OaPhNI",
        "colab": {
          "base_uri": "https://localhost:8080/"
        },
        "outputId": "fa2fb8ab-f1d3-49a1-8070-d409dcd74d22"
      },
      "source": [
        "Me = {\"Name\":\"Fred\", \"Year\":2021, \"Music\": \"Funk\", \"Food\":\"Steak\"}\r\n",
        "print(Me)"
      ],
      "execution_count": 20,
      "outputs": [
        {
          "output_type": "stream",
          "text": [
            "{'Name': 'Fred', 'Year': 2021, 'Music': 'Funk', 'Food': 'Steak'}\n"
          ],
          "name": "stdout"
        }
      ]
    },
    {
      "cell_type": "markdown",
      "metadata": {
        "id": "So_1ge7KPhkP"
      },
      "source": [
        "Replace the value associated with 'Food' to another one of your favourite foods. Print the updated dictionary."
      ]
    },
    {
      "cell_type": "code",
      "metadata": {
        "id": "XhFXTLBOSHcw",
        "colab": {
          "base_uri": "https://localhost:8080/"
        },
        "outputId": "a1c9461c-2683-43f2-cc4e-899176c80c28"
      },
      "source": [
        "Me[\"Food\"] = \"Pizza\"\r\n",
        "print(Me)"
      ],
      "execution_count": 21,
      "outputs": [
        {
          "output_type": "stream",
          "text": [
            "{'Name': 'Fred', 'Year': 2021, 'Music': 'Funk', 'Food': 'Pizza'}\n"
          ],
          "name": "stdout"
        }
      ]
    },
    {
      "cell_type": "markdown",
      "metadata": {
        "id": "PHorHCyjC3F9"
      },
      "source": [
        "Create a list with entries 1, 3, 2, 1, 5, 3, 5, 1, 4 and name it 'original'. Create a new list called 'unique' that only contains unique numbers from original.\r\n",
        "\r\n",
        "Example:\r\n",
        "\r\n",
        "```\r\n",
        "Input\r\n",
        "[1, 2, 3, 1]\r\n",
        "\r\n",
        "Output\r\n",
        "[1, 2, 3]\r\n",
        "```\r\n",
        "**Hint:** Think about the properties of a set from lecture.\r\n"
      ]
    },
    {
      "cell_type": "code",
      "metadata": {
        "id": "cPWYXHe1C1hX",
        "colab": {
          "base_uri": "https://localhost:8080/"
        },
        "outputId": "95d20e59-8700-4bb5-bd01-0472cf0a9bba"
      },
      "source": [
        "original = [1, 3, 2, 1, 5, 3, 5, 1, 4]\r\n",
        "unique = list(set(original))\r\n",
        "print(unique)"
      ],
      "execution_count": null,
      "outputs": [
        {
          "output_type": "stream",
          "text": [
            "[1, 2, 3, 4, 5]\n"
          ],
          "name": "stdout"
        }
      ]
    },
    {
      "cell_type": "markdown",
      "metadata": {
        "id": "_cVTBnphH84j"
      },
      "source": [
        "#Arithmetic Operations\r\n",
        "\r\n",
        "Call the last element of the array \"Fourth\" that you created above. Raise this element to the second power and add it to the second element of the list \"First\"."
      ]
    },
    {
      "cell_type": "code",
      "metadata": {
        "id": "Ik8NnTQ9VSeD",
        "colab": {
          "base_uri": "https://localhost:8080/"
        },
        "outputId": "1db09512-fcaf-42ae-bf5a-4a239b4ace3f"
      },
      "source": [
        "Fourth[-1]**2 + First[1]"
      ],
      "execution_count": null,
      "outputs": [
        {
          "output_type": "execute_result",
          "data": {
            "text/plain": [
              "19"
            ]
          },
          "metadata": {
            "tags": []
          },
          "execution_count": 47
        }
      ]
    },
    {
      "cell_type": "markdown",
      "metadata": {
        "id": "4HOSQvJDVTEE"
      },
      "source": [
        "Add the last three elements of \"Third\". "
      ]
    },
    {
      "cell_type": "code",
      "metadata": {
        "id": "nUZNOX_cVl69",
        "colab": {
          "base_uri": "https://localhost:8080/"
        },
        "outputId": "7ef58423-8529-48c4-9dd7-9120dc835b15"
      },
      "source": [
        "sum(Third[-3:])"
      ],
      "execution_count": 22,
      "outputs": [
        {
          "output_type": "execute_result",
          "data": {
            "text/plain": [
              "-42"
            ]
          },
          "metadata": {
            "tags": []
          },
          "execution_count": 22
        }
      ]
    },
    {
      "cell_type": "markdown",
      "metadata": {
        "id": "lXS3i_GRVmk5"
      },
      "source": [
        "Convert the tuple, \"Third\" to an array, double all the elements in \"Third\" and add the elements in this array to the elements in \"Fourth\" using only 1 arithmatic statement. Store this result as \"Fifth\" and print.\r\n",
        "\r\n",
        "**Hint** Answer should look like this. \r\n",
        "\r\n",
        "\r\n",
        "```\r\n",
        "Fifth = 2*___(____) + _____\r\n",
        "print (Fifth)\r\n",
        "```\r\n",
        "\r\n"
      ]
    },
    {
      "cell_type": "code",
      "metadata": {
        "id": "5T35jbY3YL04",
        "colab": {
          "base_uri": "https://localhost:8080/"
        },
        "outputId": "2ec0f333-3ed3-49e3-adba-ccc43d189d72"
      },
      "source": [
        "Fifth = 2 * np.array(Third) + Fourth\r\n",
        "print(Fifth)\r\n"
      ],
      "execution_count": 23,
      "outputs": [
        {
          "output_type": "stream",
          "text": [
            "[ -5  -3  -8 -13 -25  -4]\n"
          ],
          "name": "stdout"
        }
      ]
    },
    {
      "cell_type": "markdown",
      "metadata": {
        "id": "afaH5uSsJFeD"
      },
      "source": [
        "#Conditionals\r\n",
        "\r\n",
        "Convert \"Fifth\" to a tuple and use a print statement to see if Fifth is equal to \"Third\""
      ]
    },
    {
      "cell_type": "code",
      "metadata": {
        "id": "x_9YDynWaAUz",
        "colab": {
          "base_uri": "https://localhost:8080/"
        },
        "outputId": "d9946dce-ecbd-43bb-f06a-ec0850d5004b"
      },
      "source": [
        "print(tuple(Fifth) == Third )"
      ],
      "execution_count": null,
      "outputs": [
        {
          "output_type": "stream",
          "text": [
            "True\n"
          ],
          "name": "stdout"
        }
      ]
    },
    {
      "cell_type": "code",
      "metadata": {
        "id": "Y2i8lW0Tft0Y"
      },
      "source": [
        ""
      ],
      "execution_count": null,
      "outputs": []
    },
    {
      "cell_type": "code",
      "metadata": {
        "id": "XCQb2d0b8bHY"
      },
      "source": [
        ""
      ],
      "execution_count": null,
      "outputs": []
    }
  ]
}