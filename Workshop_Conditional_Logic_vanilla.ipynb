{
  "nbformat": 4,
  "nbformat_minor": 0,
  "metadata": {
    "colab": {
      "name": "Workshop_Conditional_Logic.ipynb",
      "provenance": [],
      "collapsed_sections": [],
      "include_colab_link": true
    },
    "kernelspec": {
      "name": "python3",
      "display_name": "Python 3"
    }
  },
  "cells": [
    {
      "cell_type": "markdown",
      "metadata": {
        "id": "view-in-github",
        "colab_type": "text"
      },
      "source": [
        "<a href=\"https://colab.research.google.com/github/fd-journey/journey/blob/main/Workshop_Conditional_Logic_vanilla.ipynb\" target=\"_parent\"><img src=\"https://colab.research.google.com/assets/colab-badge.svg\" alt=\"Open In Colab\"/></a>"
      ]
    },
    {
      "cell_type": "markdown",
      "metadata": {
        "id": "CihH3Kei7Slk"
      },
      "source": [
        "**Frederic Daoud** frederic.daoud@gmail.com"
      ]
    },
    {
      "cell_type": "markdown",
      "metadata": {
        "id": "s3ShPXAO2JFK"
      },
      "source": [
        "#**NOTE:**\r\n",
        "Please insert a text cell at the top of the Notebook with your Full Name in Bold and your email that you use for both Journey and Github\r\n",
        "\r\n",
        "Also, add to the title of the notebook, an underscore as well as your favourite flavour of ice cream beside it.\r\n",
        "\r\n",
        "Ex. 'Workshop_Conditional_Logic_Cookies_and_Cream'\r\n",
        "\r\n",
        "\r\n",
        "\r\n"
      ]
    },
    {
      "cell_type": "markdown",
      "metadata": {
        "id": "PmLF5u2r2xju"
      },
      "source": [
        "#Warm Up\r\n",
        "\r\n",
        "Import numpy, matplotlib.pyplot and name them np and plt respectively. "
      ]
    },
    {
      "cell_type": "code",
      "metadata": {
        "id": "AK3opr4n1vtn"
      },
      "source": [
        "import numpy as np\r\n",
        "import matplotlib.pyplot as plt"
      ],
      "execution_count": 1,
      "outputs": []
    },
    {
      "cell_type": "markdown",
      "metadata": {
        "id": "ZFzjls1y3q6f"
      },
      "source": [
        "Use the range function to list out all even numbers between 1 and 30."
      ]
    },
    {
      "cell_type": "code",
      "metadata": {
        "id": "fJ80NrmD31JF",
        "outputId": "4ced8a81-ffd2-4862-d4cb-8f8148efbf47",
        "colab": {
          "base_uri": "https://localhost:8080/"
        }
      },
      "source": [
        "print(list(range(0,31,2)))"
      ],
      "execution_count": 3,
      "outputs": [
        {
          "output_type": "stream",
          "text": [
            "[0, 2, 4, 6, 8, 10, 12, 14, 16, 18, 20, 22, 24, 26, 28, 30]\n"
          ],
          "name": "stdout"
        }
      ]
    },
    {
      "cell_type": "markdown",
      "metadata": {
        "id": "C3kBiQQs31rh"
      },
      "source": [
        "Create a tuple with 6,1,2,3,4,5 as entries and name it \"Tuple\". Convert tuple to an array and name the array 'Array'. Finally write a line that will double each element in Array **without** using a loop and print the result."
      ]
    },
    {
      "cell_type": "code",
      "metadata": {
        "id": "NvxzoMOA4iSM",
        "outputId": "4eab9df3-fb19-48c4-a7ca-a0ed825beab7",
        "colab": {
          "base_uri": "https://localhost:8080/"
        }
      },
      "source": [
        "Tuple = (6,1,2,3,4,5)\r\n",
        "Array = np.array(Tuple)\r\n",
        "print(Array*2)"
      ],
      "execution_count": 4,
      "outputs": [
        {
          "output_type": "stream",
          "text": [
            "[12  2  4  6  8 10]\n"
          ],
          "name": "stdout"
        }
      ]
    },
    {
      "cell_type": "markdown",
      "metadata": {
        "id": "gVvzl6r34iq-"
      },
      "source": [
        "Now, let's do the above exercise with a loop. Convert Tuple to a list and name it \"List\". Use a for loop to double all elements in List and print the result. "
      ]
    },
    {
      "cell_type": "code",
      "metadata": {
        "id": "z5WZYQDl5Clv",
        "outputId": "5fad04a5-fe8b-4d7c-fa0a-3359ffa0de9b",
        "colab": {
          "base_uri": "https://localhost:8080/"
        }
      },
      "source": [
        "List = list(Tuple)\r\n",
        "\r\n",
        "\r\n",
        "for i in List:\r\n",
        "  print(i*2)\r\n",
        "\r\n"
      ],
      "execution_count": 5,
      "outputs": [
        {
          "output_type": "stream",
          "text": [
            "12\n",
            "2\n",
            "4\n",
            "6\n",
            "8\n",
            "10\n"
          ],
          "name": "stdout"
        }
      ]
    },
    {
      "cell_type": "markdown",
      "metadata": {
        "id": "PMYZSLkK5Ddy"
      },
      "source": [
        "How many iterations will this while loop have? Why does the while loop stop in the first place?\r\n",
        "\r\n",
        "```\r\n",
        "i=0\r\n",
        "while i<16:\r\n",
        "  print (i)\r\n",
        "  i=i+1\r\n",
        "```\r\n",
        "\r\n"
      ]
    },
    {
      "cell_type": "markdown",
      "metadata": {
        "id": "ODY5m0636R0s"
      },
      "source": [
        "Write the number of iterations here: 16\r\n",
        "\r\n",
        "Why does the while loop stop?\r\n",
        "\r\n",
        "It stops because i < 16 is False (i = 16)"
      ]
    },
    {
      "cell_type": "markdown",
      "metadata": {
        "id": "zmo8t0YY6dvK"
      },
      "source": [
        "#Exercises\r\n",
        "\r\n",
        "##Blast Off\r\n",
        "Use a loop that counts backwards from 5 and prints out 'Blast Off!' after it counts 1.\r\n",
        "\r\n",
        "Output should be\r\n",
        "\r\n",
        "\r\n",
        "```\r\n",
        "5\r\n",
        "4\r\n",
        "3\r\n",
        "2\r\n",
        "1\r\n",
        "Blast Off!\r\n",
        "```\r\n",
        "**Hint**\r\n",
        "The range function can go backwards. Make sure you select the appropriate starting number, ending number and make your step size -1. \r\n"
      ]
    },
    {
      "cell_type": "code",
      "metadata": {
        "id": "rVECd5cD7Nm7",
        "outputId": "403b43d6-a9ea-491a-c6ca-4d1e73254f67",
        "colab": {
          "base_uri": "https://localhost:8080/"
        }
      },
      "source": [
        "for i in range(5,0,-1):\r\n",
        "  if i != 1:\r\n",
        "    print(i)\r\n",
        "  elif i == 1:\r\n",
        "    print(i)\r\n",
        "    print(\"Blast Off\")"
      ],
      "execution_count": 10,
      "outputs": [
        {
          "output_type": "stream",
          "text": [
            "5\n",
            "4\n",
            "3\n",
            "2\n",
            "1\n",
            "Blast Off\n"
          ],
          "name": "stdout"
        }
      ]
    },
    {
      "cell_type": "markdown",
      "metadata": {
        "id": "lRzR0mT87mTX"
      },
      "source": [
        "##Updating a list and Creating a New List\r\n",
        "\r\n",
        "Create a list with entries 0,4,5,8,2,9 and name it \"num\". Use a while loop over num and print out all entries."
      ]
    },
    {
      "cell_type": "code",
      "metadata": {
        "id": "lfSYkTrb7SRz",
        "outputId": "e1a7655d-5442-4c9c-d3fa-47157e1fd959",
        "colab": {
          "base_uri": "https://localhost:8080/"
        }
      },
      "source": [
        "num = [0,4,5,8,2,9]\r\n",
        "\r\n",
        "i = 0\r\n",
        "\r\n",
        "while i in range(len(num)):\r\n",
        "  print(num[i])\r\n",
        "  i = i + 1"
      ],
      "execution_count": 21,
      "outputs": [
        {
          "output_type": "stream",
          "text": [
            "0\n",
            "4\n",
            "5\n",
            "8\n",
            "2\n",
            "9\n"
          ],
          "name": "stdout"
        }
      ]
    },
    {
      "cell_type": "markdown",
      "metadata": {
        "id": "vNvyh9CoATsi"
      },
      "source": [
        "Create an empty list and name it 'X'. Use a for loop to append all even numbers from 0 to 20 into X."
      ]
    },
    {
      "cell_type": "code",
      "metadata": {
        "id": "yyJB44e2AUMw",
        "outputId": "d8859def-5f0b-4892-ed66-8d81905dad6b",
        "colab": {
          "base_uri": "https://localhost:8080/"
        }
      },
      "source": [
        "X = []\r\n",
        "\r\n",
        "for i in range(0,20,2):\r\n",
        "  X.append(i)\r\n",
        "X"
      ],
      "execution_count": 24,
      "outputs": [
        {
          "output_type": "execute_result",
          "data": {
            "text/plain": [
              "[0, 2, 4, 6, 8, 10, 12, 14, 16, 18]"
            ]
          },
          "metadata": {
            "tags": []
          },
          "execution_count": 24
        }
      ]
    },
    {
      "cell_type": "markdown",
      "metadata": {
        "id": "lEth2bIc9zE0"
      },
      "source": [
        "Create a list with entries 6, 4, 6, 5, 123, 37, 82, 44, 39 and save it as \"numbers\". Loop through the elements in numbers and replace the element with \"Even\" if it is an even number.\r\n",
        "\r\n",
        "Example:\r\n",
        "\r\n",
        "\r\n",
        "```\r\n",
        "Input\r\n",
        "Y = [3,4,5,8,10]\r\n",
        "\r\n",
        "Output\r\n",
        "Y = [3,Even,5,Even,Even]\r\n",
        "```\r\n",
        "**Hint:**Recall how to replace entries in a list from the previous lecture.\r\n"
      ]
    },
    {
      "cell_type": "code",
      "metadata": {
        "id": "JbBbalz7-5Zd",
        "outputId": "9a0bfa5f-2b46-431e-b0c4-4fa282e7cc20",
        "colab": {
          "base_uri": "https://localhost:8080/"
        }
      },
      "source": [
        "numbers = [6,4,6,5,123,37,82,44,39]\r\n",
        "\r\n",
        "for i in range(len(numbers)):\r\n",
        "  if i%2 == 0:\r\n",
        "    numbers[i] = \"even\"\r\n",
        "    \r\n",
        "\r\n",
        "numbers    \r\n",
        "    \r\n",
        "#if(int(x) % 2):"
      ],
      "execution_count": 142,
      "outputs": [
        {
          "output_type": "execute_result",
          "data": {
            "text/plain": [
              "['even', 4, 'even', 5, 'even', 37, 'even', 44, 'even']"
            ]
          },
          "metadata": {
            "tags": []
          },
          "execution_count": 142
        }
      ]
    },
    {
      "cell_type": "code",
      "metadata": {
        "id": "6pud07QUE4u1",
        "outputId": "d456b12d-904e-4162-f623-ae929dcf30a4",
        "colab": {
          "base_uri": "https://localhost:8080/"
        }
      },
      "source": [
        "for x in numbers:\r\n",
        "  if x%2 == 0:\r\n",
        "    numbers[x] = \"even\""
      ],
      "execution_count": 146,
      "outputs": [
        {
          "output_type": "execute_result",
          "data": {
            "text/plain": [
              "9"
            ]
          },
          "metadata": {
            "tags": []
          },
          "execution_count": 146
        }
      ]
    },
    {
      "cell_type": "markdown",
      "metadata": {
        "id": "TDDj4ptbBgaN"
      },
      "source": [
        "Create a empty list and a list with entries 1, 3, 2, 1, 5, 3, 5, 1, 4 and name them \"unique\" and \"original\" respectively. Use a loop to iterate over entries in \"original\" and add all unique entries into \"unique\".\r\n",
        "\r\n",
        "\r\n",
        "```\r\n",
        "Input:\r\n",
        "unique = []\r\n",
        "original = [1, 3, 2, 1, 5, 3, 5, 1, 4]\r\n",
        "\r\n",
        "Output:\r\n",
        "unique = [1, 3, 2, 5, 4]\r\n",
        "```\r\n",
        "**Hint** Your loop should look something like this:\r\n",
        "\r\n",
        "\r\n",
        "```\r\n",
        "for i in ___:\r\n",
        "    if i not in ___:\r\n",
        "        ____.append(i)\r\n",
        "\r\n",
        "print (___)\r\n",
        "```\r\n",
        "\r\n",
        "\r\n"
      ]
    },
    {
      "cell_type": "code",
      "metadata": {
        "id": "lk6H80sQ_ZRl",
        "outputId": "33c263f1-a17a-42c9-be57-2e3640b4fbe2",
        "colab": {
          "base_uri": "https://localhost:8080/"
        }
      },
      "source": [
        "unique = []\r\n",
        "original = [1, 3, 2, 1, 5, 3, 5, 1, 4]\r\n",
        "\r\n",
        "for i in original:\r\n",
        "  if i not in unique:\r\n",
        "    unique.append(i)\r\n",
        "\r\n",
        "print(unique)\r\n"
      ],
      "execution_count": 69,
      "outputs": [
        {
          "output_type": "stream",
          "text": [
            "[1, 3, 2, 5, 4]\n"
          ],
          "name": "stdout"
        }
      ]
    },
    {
      "cell_type": "markdown",
      "metadata": {
        "id": "NpoOCec-FNVL"
      },
      "source": [
        "##String Manipulation\r\n",
        "\r\n",
        "Create a string as \"one two 3 4 five 6\" and save it as numbers\r\n",
        "\r\n"
      ]
    },
    {
      "cell_type": "code",
      "metadata": {
        "id": "_l_z33bFGpec"
      },
      "source": [
        "numbers = \"one two 3 4 five 6\""
      ],
      "execution_count": 70,
      "outputs": []
    },
    {
      "cell_type": "markdown",
      "metadata": {
        "id": "Bw9M8xCbGpx7"
      },
      "source": [
        "Run the line, numbers.split() and save the result as X and print it."
      ]
    },
    {
      "cell_type": "code",
      "metadata": {
        "id": "6KRlKx1KGyLH",
        "outputId": "4c4b5c5d-41f5-4da7-e219-1b678f5ed77c",
        "colab": {
          "base_uri": "https://localhost:8080/"
        }
      },
      "source": [
        "X = numbers.split()\r\n",
        "print(X)"
      ],
      "execution_count": 75,
      "outputs": [
        {
          "output_type": "stream",
          "text": [
            "['one', 'two', '3', '4', 'five', '6']\n"
          ],
          "name": "stdout"
        }
      ]
    },
    {
      "cell_type": "markdown",
      "metadata": {
        "id": "h45ydn-IHEKa"
      },
      "source": [
        "The previous line created a list from the words and numbers that was in the original string.\r\n",
        "\r\n",
        "Now create a dictionary with the key- value pairs ('one': 1, 'two': 2, 'three': 3, 'four': 4, 'five': 5, 'six': 6) and name it 'values'."
      ]
    },
    {
      "cell_type": "code",
      "metadata": {
        "id": "1r28CVG6G8ip"
      },
      "source": [
        "values = {'one': 1, 'two': 2, 'three': 3, 'four': 4, 'five': 5, 'six': 6}"
      ],
      "execution_count": 76,
      "outputs": []
    },
    {
      "cell_type": "markdown",
      "metadata": {
        "id": "rSA6h6W9Hi6C"
      },
      "source": [
        "Create an empty list and name it \"numeric\". Run a loop over \"X\" and have the loop output all entries in X as numbers inside numeric. The input/output follows:\r\n",
        "\r\n",
        "\r\n",
        "```\r\n",
        "Input:\r\n",
        "numeric = []\r\n",
        "values = ['one', 'two', '3', '4', 'five', '6']\r\n",
        "\r\n",
        "Output:\r\n",
        "numeric = [1, 2, 3, 4, 5, 6]\r\n",
        "```\r\n",
        "**Hint:** Your code should be in the form of:\r\n",
        "\r\n",
        "\r\n",
        "\r\n",
        "```\r\n",
        "for i in ____:\r\n",
        "    if i in values.keys():\r\n",
        "          ___.append(values[i])\r\n",
        "    else:\r\n",
        "          ___.append(int(i))\r\n",
        "\r\n",
        "print (____)\r\n",
        "```\r\n",
        "\r\n",
        "\r\n"
      ]
    },
    {
      "cell_type": "code",
      "metadata": {
        "id": "CnQE5a-zNr1p",
        "outputId": "bc456b80-72e9-4d3a-c542-ce48b28dc610",
        "colab": {
          "base_uri": "https://localhost:8080/"
        }
      },
      "source": [
        "numeric = []\r\n",
        "\r\n",
        "for i in X:\r\n",
        "  if i in values.keys():\r\n",
        "    numeric.append(values[i])\r\n",
        "  else:\r\n",
        "    numeric.append(int(i))\r\n",
        "\r\n",
        "print(numeric)"
      ],
      "execution_count": 77,
      "outputs": [
        {
          "output_type": "stream",
          "text": [
            "[1, 2, 3, 4, 5, 6]\n"
          ],
          "name": "stdout"
        }
      ]
    },
    {
      "cell_type": "markdown",
      "metadata": {
        "id": "fkp2azLKNsjx"
      },
      "source": [
        "Convert numeric into a string by running\r\n",
        "\r\n",
        "```\r\n",
        "'  '.join(str(x) for x in numeric) \r\n",
        "```\r\n",
        "and save the result as 'string' and print it."
      ]
    },
    {
      "cell_type": "code",
      "metadata": {
        "id": "dCPqFKoOOCZK",
        "outputId": "e1e97276-ca19-4060-8425-3edf3853dd61",
        "colab": {
          "base_uri": "https://localhost:8080/"
        }
      },
      "source": [
        "string = \" \".join(str(x) for x in numeric)\r\n",
        "print(string)"
      ],
      "execution_count": 85,
      "outputs": [
        {
          "output_type": "stream",
          "text": [
            "1 2 3 4 5 6\n"
          ],
          "name": "stdout"
        }
      ]
    },
    {
      "cell_type": "markdown",
      "metadata": {
        "id": "JzeupddlOC4r"
      },
      "source": [
        "**Bonus:**\r\n",
        "Trace the code used in the String Manipulation Section and try to explain using words, what the code is doing overall."
      ]
    },
    {
      "cell_type": "markdown",
      "metadata": {
        "id": "w7LrRHjVOO0P"
      },
      "source": [
        "Iterating through list X, if the string matched a key in the dictionary \"values\" (if i in values.keys():), list \"numeric\" is appended to include the value of the matching key from the \"values\" dictionary (numeric.append(values[i])).\r\n",
        "\r\n",
        "If the string did not match any keys from the \"values\" dictionary, the string was converted to an integer type and appended to list \"numeric (else:\r\n",
        "    numeric.append(int(i))).\r\n",
        "\r\n",
        "Using the join function, each entry found in list \"numeric\" were joined/concatenated together using a space (\" \".join). Since the join fonction can only be used with strings and numeric is a list of int, using list comprehension, we looped through list numeric to convert each element to a string while applying the join function ((str(x) for x in numeric))."
      ]
    },
    {
      "cell_type": "markdown",
      "metadata": {
        "id": "fiZFTCy5OR6y"
      },
      "source": [
        "#Debugging\r\n",
        "\r\n",
        "Below you will find sample codes with a few bugs in them. Identify where the bugs are and write the debugged code in the code block and run it.\r\n",
        "\r\n",
        "Write a loop that finds **all even** entries from 0 to 20 (inclusive) and prints them.\r\n",
        "\r\n",
        "\r\n",
        "```\r\n",
        "for i in range(0,20,-3):\r\n",
        "    if i%2 = 0\r\n",
        "    print (i)\r\n",
        "```\r\n",
        "\r\n",
        "\r\n",
        "\r\n"
      ]
    },
    {
      "cell_type": "code",
      "metadata": {
        "id": "QlHsqDt-Ks2U",
        "outputId": "2d5fa8a2-470c-4fbc-db97-92fec0a91aba",
        "colab": {
          "base_uri": "https://localhost:8080/"
        }
      },
      "source": [
        "for i in range(0,21):\r\n",
        "    if i%2 == 0:\r\n",
        "      print (i)"
      ],
      "execution_count": 90,
      "outputs": [
        {
          "output_type": "stream",
          "text": [
            "0\n",
            "2\n",
            "4\n",
            "6\n",
            "8\n",
            "10\n",
            "12\n",
            "14\n",
            "16\n",
            "18\n",
            "20\n"
          ],
          "name": "stdout"
        }
      ]
    },
    {
      "cell_type": "markdown",
      "metadata": {
        "id": "vFq7HphRKtbF"
      },
      "source": [
        "Write a loop that iterates over a list of strings and prints \"True\" if the string is a palindrome and \"False\" if the string isn't. A palindrome is a word that can be read the same way forward as it can backwards. (Ex. noon, level, civic)\r\n",
        "\r\n",
        "\r\n",
        "\r\n",
        "```\r\n",
        "Words = ['ball', 'kayak', 'song', 'python', 'madam', 'racecar', 'noon']\r\n",
        "for word in words:\r\n",
        "    result = 'False'\r\n",
        "    for i in range(len(word)/2):\r\n",
        "        if word[i] = word[-1-i]:\r\n",
        "                                  result = 'True'\r\n",
        "else:\r\n",
        "            result = 'False'\r\n",
        "        print (Result)\r\n",
        "    \r\n",
        "\r\n",
        "\r\n",
        "```\r\n",
        "\r\n"
      ]
    },
    {
      "cell_type": "code",
      "metadata": {
        "id": "lAga4798Kubd",
        "outputId": "0b9549c0-af57-4b7d-c1c5-3de272a1e95b",
        "colab": {
          "base_uri": "https://localhost:8080/"
        }
      },
      "source": [
        "Words = ['ball', 'kayak', 'song', 'python', 'madam', 'racecar', 'noon']\r\n",
        "\r\n",
        "result = []\r\n",
        "\r\n",
        "for word in Words:\r\n",
        "  if word == word[::-1]:\r\n",
        "    result.append(\"True\")\r\n",
        "  else:\r\n",
        "    result.append(\"False\")\r\n",
        "print (result)"
      ],
      "execution_count": 108,
      "outputs": [
        {
          "output_type": "stream",
          "text": [
            "['False', 'True', 'False', 'False', 'True', 'True', 'True']\n"
          ],
          "name": "stdout"
        }
      ]
    },
    {
      "cell_type": "markdown",
      "metadata": {
        "id": "0baXakCkKu2Z"
      },
      "source": [
        "Edit the code to create a list of the first 10 entries of the Fibonacci Sequence and print it. The Fibonacci Sequence is a sequence of numbers starting from 1, where consecutive numbers are obtained by summing the previous two.\r\n",
        "\r\n",
        "Your Output should be:\r\n",
        "\r\n",
        "[1, 1, 2, 3, 5, 8, 13, 21, 34, 55]\r\n",
        "\r\n",
        "\r\n",
        "\r\n",
        "```\r\n",
        "Fibonacci = [1,1]\r\n",
        "for i in range (1,5) and i>4:\r\n",
        "    x = Fibonacci[i] + Fibonacci[i-1]\r\n",
        "    Fibonacci.append(i)\r\n",
        "\r\n",
        "print (Fibonacci)\r\n",
        "\r\n",
        "```\r\n",
        "\r\n"
      ]
    },
    {
      "cell_type": "code",
      "metadata": {
        "id": "_-jwPzdyKvL5",
        "outputId": "8b7f01d6-cbde-498f-8eb9-224679a9d15f",
        "colab": {
          "base_uri": "https://localhost:8080/"
        }
      },
      "source": [
        "Fibonacci = [1,1]\r\n",
        "i = 1 \r\n",
        "\r\n",
        "while len(Fibonacci) < 10:\r\n",
        "  x = Fibonacci[i] + Fibonacci[i-1] \r\n",
        "  Fibonacci.append(x)\r\n",
        "  i = i +1\r\n",
        " \r\n",
        "print (Fibonacci)"
      ],
      "execution_count": 118,
      "outputs": [
        {
          "output_type": "stream",
          "text": [
            "[1, 1, 2, 3, 5, 8, 13, 21, 34, 55]\n"
          ],
          "name": "stdout"
        }
      ]
    },
    {
      "cell_type": "markdown",
      "metadata": {
        "id": "fj4n3r8AKyZr"
      },
      "source": [
        "Create a loop that will go through a string and count how many of each vowel the string contains:\r\n",
        "\r\n",
        "\r\n",
        "\r\n",
        "```\r\n",
        "string = 'cauliflower is very healthy'\r\n",
        "\r\n",
        "a = 0\r\n",
        "e = 0\r\n",
        "i = 0\r\n",
        "o = 0\r\n",
        "u = 0\r\n",
        "y = 0\r\n",
        "for letter in string:\r\n",
        "  if letter = 'a':\r\n",
        "    o = o + 1\r\n",
        "  if letter == 'b':\r\n",
        "    e = e + 1\r\n",
        "  if letter == 'i':\r\n",
        "    i = i + 1\r\n",
        "  if letter == 'o':\r\n",
        "    a = a + 1\r\n",
        "  else:\r\n",
        "    u = u + 1\r\n",
        "print(f\"There are {a} a's, {e} e's, {i} i's, {o} o's, {u} u's & {y} y's in the string\")\r\n",
        "```\r\n",
        "\r\n"
      ]
    },
    {
      "cell_type": "code",
      "metadata": {
        "id": "lqj5PhjgKyvY",
        "outputId": "dd30b657-a612-4f0a-8f5c-787863bfd20e",
        "colab": {
          "base_uri": "https://localhost:8080/"
        }
      },
      "source": [
        "string = 'cauliflower is very healthy'\r\n",
        " \r\n",
        "a = 0\r\n",
        "e = 0\r\n",
        "i = 0\r\n",
        "o = 0\r\n",
        "u = 0\r\n",
        "y = 0\r\n",
        "\r\n",
        "for letter in string:\r\n",
        "  if letter == 'a':\r\n",
        "    a = a + 1\r\n",
        "  if letter == 'e':\r\n",
        "    e = e + 1\r\n",
        "  if letter == 'i':\r\n",
        "    i = i + 1\r\n",
        "  if letter == 'o':\r\n",
        "    o = o + 1\r\n",
        "  if letter == 'u':\r\n",
        "    u = u + 1\r\n",
        "  if letter == 'y':\r\n",
        "    y = y + 1\r\n",
        "\r\n",
        "print(f\"There are {a} a's, {e} e's, {i} i's, {o} o's, {u} u's & {y} y's in the string\")"
      ],
      "execution_count": 120,
      "outputs": [
        {
          "output_type": "stream",
          "text": [
            "There are 2 a's, 3 e's, 2 i's, 1 o's, 1 u's & 2 y's in the string\n"
          ],
          "name": "stdout"
        }
      ]
    },
    {
      "cell_type": "markdown",
      "metadata": {
        "id": "n9ZQIr0gPRWV"
      },
      "source": [
        "#More Interview Questions\r\n",
        "\r\n",
        "\r\n",
        "- What is the difference between Python Arrays and lists? (Write your answer in a text cell below)\r\n",
        "\r\n",
        "- What is the difference between list and tuples in Python?"
      ]
    },
    {
      "cell_type": "markdown",
      "metadata": {
        "id": "Bel8LdtoyURF"
      },
      "source": [
        "1. Python Arrays can have operations applied to each elements whereas lists cannot. \r\n",
        "2. Lists are mutable while tuples are immutable. Lists are denoted by using [] brackets while tuples use () brackets."
      ]
    },
    {
      "cell_type": "code",
      "metadata": {
        "id": "oo-p9LBJOBH2"
      },
      "source": [
        "'''\r\n",
        "Write a program that prints the following pattern, using a 'for' loop.\r\n",
        "\r\n",
        "* \r\n",
        "* * \r\n",
        "* * * \r\n",
        "* * * * \r\n",
        "* * * * * \r\n",
        "* * * * \r\n",
        "* * * \r\n",
        "* * \r\n",
        "*\r\n",
        "'''"
      ],
      "execution_count": null,
      "outputs": []
    },
    {
      "cell_type": "code",
      "metadata": {
        "id": "QYJoQgenOQnp",
        "outputId": "4158c53c-3ba2-4108-a6c8-37be4c190369",
        "colab": {
          "base_uri": "https://localhost:8080/"
        }
      },
      "source": [
        "for i in range(10):\r\n",
        "  if i <= 5:\r\n",
        "    print(\"*\" * i)\r\n",
        "  else:\r\n",
        "    print((10-i)*\"*\")\r\n",
        "\t"
      ],
      "execution_count": 121,
      "outputs": [
        {
          "output_type": "stream",
          "text": [
            "\n",
            "*\n",
            "**\n",
            "***\n",
            "****\n",
            "*****\n",
            "****\n",
            "***\n",
            "**\n",
            "*\n"
          ],
          "name": "stdout"
        }
      ]
    },
    {
      "cell_type": "code",
      "metadata": {
        "id": "QMwgLA45QEqW"
      },
      "source": [
        "'''\r\n",
        "For the following list, iterate through and print all the terms that contain an integer\r\n",
        "'''\r\n",
        "\r\n",
        "word_list = ['hello', 'goodbye', 'yes1', 'no', 'maybe2']"
      ],
      "execution_count": null,
      "outputs": []
    },
    {
      "cell_type": "code",
      "metadata": {
        "id": "AqMn1EFt5_DM",
        "outputId": "5d605927-0cc1-4f63-e319-54704d1ae628",
        "colab": {
          "base_uri": "https://localhost:8080/",
          "height": 135
        }
      },
      "source": [
        "word_list = ['hello', 'goodbye', 'yes1', 'no', 'maybe2']\r\n",
        "\r\n",
        "for i in word_list:\r\n",
        "  for x in i:\r\n",
        "    if x.isdigit() = True\r\n",
        "    print(i)"
      ],
      "execution_count": 135,
      "outputs": [
        {
          "output_type": "error",
          "ename": "SyntaxError",
          "evalue": "ignored",
          "traceback": [
            "\u001b[0;36m  File \u001b[0;32m\"<ipython-input-135-47375a4a2a11>\"\u001b[0;36m, line \u001b[0;32m5\u001b[0m\n\u001b[0;31m    if x.isdigit() = True\u001b[0m\n\u001b[0m                   ^\u001b[0m\n\u001b[0;31mSyntaxError\u001b[0m\u001b[0;31m:\u001b[0m invalid syntax\n"
          ]
        }
      ]
    },
    {
      "cell_type": "code",
      "metadata": {
        "id": "tk6qbYKrRDpX"
      },
      "source": [
        "'''\r\n",
        "For the following list of integers, write a program that returns a list of all the even numbers\r\n",
        "'''\r\n",
        "\r\n",
        "number_list = [1,2,3,4,5,6,7,8,9]"
      ],
      "execution_count": null,
      "outputs": []
    },
    {
      "cell_type": "code",
      "metadata": {
        "id": "3qdNSohyA-RX",
        "outputId": "f472c795-46b2-4666-8ae9-aebabe25dc02",
        "colab": {
          "base_uri": "https://localhost:8080/"
        }
      },
      "source": [
        "number_list = [1,2,3,4,5,6,7,8,9]\r\n",
        "\r\n",
        "l=[]\r\n",
        "for i in number_list:\r\n",
        "  if i%2 == 0:\r\n",
        "    l.append(i)\r\n",
        "\r\n",
        "print(l)\r\n"
      ],
      "execution_count": 138,
      "outputs": [
        {
          "output_type": "stream",
          "text": [
            "[2, 4, 6, 8]\n"
          ],
          "name": "stdout"
        }
      ]
    },
    {
      "cell_type": "markdown",
      "metadata": {
        "id": "QVNS_hO7PWru"
      },
      "source": [
        "#Bonus \r\n",
        "\r\n",
        "Create a list with elements [\"Toronto\", \"Vancouver\", \"Montreal\"], and create a nested for loop that returns a list of these strings in reverse order.\r\n",
        "\r\n",
        "\r\n",
        "\r\n",
        "```\r\n",
        "Input\r\n",
        "[\"Toronto\", \"Vancouver\", \"Montreal\"]\r\n",
        "\r\n",
        "Output\r\n",
        "[\"otnoroT\", \"revuocnaV\", \"laertnoM\"]\r\n",
        "```\r\n",
        "\r\n"
      ]
    },
    {
      "cell_type": "code",
      "metadata": {
        "id": "hIp_UiVSacE7",
        "outputId": "89c5001f-aebf-4b43-8907-f9e00fb4768d",
        "colab": {
          "base_uri": "https://localhost:8080/"
        }
      },
      "source": [
        "l =  [\"Toronto\", \"Vancouver\", \"Montreal\"]\r\n",
        "r=[]\r\n",
        "for i in l:\r\n",
        "  r.append(i[::-1])\r\n",
        "print(r)"
      ],
      "execution_count": 137,
      "outputs": [
        {
          "output_type": "stream",
          "text": [
            "['otnoroT', 'revuocnaV', 'laertnoM']\n"
          ],
          "name": "stdout"
        }
      ]
    },
    {
      "cell_type": "code",
      "metadata": {
        "id": "cTLtGy5D-jZB"
      },
      "source": [
        ""
      ],
      "execution_count": null,
      "outputs": []
    }
  ]
}