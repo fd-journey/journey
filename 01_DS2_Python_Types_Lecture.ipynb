{
  "nbformat": 4,
  "nbformat_minor": 0,
  "metadata": {
    "colab": {
      "name": "01_DS2_Python_Types_Lecture.ipynb",
      "provenance": [],
      "collapsed_sections": [],
      "include_colab_link": true
    },
    "kernelspec": {
      "name": "python3",
      "display_name": "Python 3"
    }
  },
  "cells": [
    {
      "cell_type": "markdown",
      "metadata": {
        "id": "view-in-github",
        "colab_type": "text"
      },
      "source": [
        "<a href=\"https://colab.research.google.com/github/fd-journey/journey/blob/main/01_DS2_Python_Types_Lecture.ipynb\" target=\"_parent\"><img src=\"https://colab.research.google.com/assets/colab-badge.svg\" alt=\"Open In Colab\"/></a>"
      ]
    },
    {
      "cell_type": "markdown",
      "metadata": {
        "id": "qslW2SD7YU-t"
      },
      "source": [
        "# Python Types\n",
        "\n",
        "These first lectures are to make sure you have your python fundamentals.\n",
        "\n",
        "# Data Types\n",
        "\n",
        "Python has a few basic data types. We have integers, floating point numbers, Booleans and strings. Integers are ***whole*** numbers and do not include decimals. Floating Point numbers are decimal numbers. Booleans are essentially True or False statements. Lastly, strings hold text data. \n",
        "\n",
        "\n",
        "We can check the data type of a value in python with the `type(x)` function:"
      ]
    },
    {
      "cell_type": "code",
      "metadata": {
        "id": "-80-ORtF-bh6",
        "outputId": "93430244-d43e-4f00-db16-fa33e1084323",
        "colab": {
          "base_uri": "https://localhost:8080/"
        }
      },
      "source": [
        "#integer Numbers\r\n",
        "a = 5\r\n",
        "print(f\"a is a {type(a)}\")\r\n",
        "\r\n",
        "#floating point (real) numbers\r\n",
        "b = 5.5\r\n",
        "print(f\"b is a {type(b)}\")\r\n",
        "\r\n",
        "#Boolean True/False\r\n",
        "c= True\r\n",
        "print(f\"c is a {type (c)}\")\r\n",
        "\r\n",
        "#strings\r\n",
        "d = \"String\"\r\n",
        "print(f\"d is a {type(d)}\")\r\n"
      ],
      "execution_count": 1,
      "outputs": [
        {
          "output_type": "stream",
          "text": [
            "a is a <class 'int'>\n",
            "b is a <class 'float'>\n",
            "c is a <class 'bool'>\n",
            "d is a <class 'str'>\n"
          ],
          "name": "stdout"
        }
      ]
    },
    {
      "cell_type": "markdown",
      "metadata": {
        "id": "hSwB349dffiQ"
      },
      "source": [
        "Knowing what data type you are dealing with is important when writing code as each type has limits on what operation it can do. "
      ]
    },
    {
      "cell_type": "markdown",
      "metadata": {
        "id": "7rf7061rUPI3"
      },
      "source": [
        "##Arithmetic Operations\r\n",
        "Much like you can with regular numbers, you can add, subtract, multiply, divide, exponentiate, etc. integers and floating point numbers in Python."
      ]
    },
    {
      "cell_type": "code",
      "metadata": {
        "id": "MOu_M7znVM5u",
        "outputId": "a71afb39-51d0-4eca-aba2-02f4d7e88852",
        "colab": {
          "base_uri": "https://localhost:8080/"
        }
      },
      "source": [
        "#Addition/Subtraction\r\n",
        "print(1+1)\r\n",
        "print(1.+1.)\r\n",
        "\r\n",
        "#multiplication/division\r\n",
        "print(10./5.)\r\n",
        "print(10//5)\r\n",
        "print(5*3)\r\n",
        "\r\n",
        "#Exponentiate \r\n",
        "print(3**2)\r\n",
        "print(3.**2)"
      ],
      "execution_count": 3,
      "outputs": [
        {
          "output_type": "stream",
          "text": [
            "2\n",
            "2.0\n",
            "2.0\n",
            "2.0\n",
            "15\n",
            "9\n",
            "9.0\n"
          ],
          "name": "stdout"
        }
      ]
    },
    {
      "cell_type": "markdown",
      "metadata": {
        "id": "fitLivqgVLwr"
      },
      "source": [
        "Notice that even the whole floating point numbers have a decimal place next to them. \r\n",
        "\r\n",
        "In Python, addition isn't limited to numbers. We can also do so with strings! \r\n",
        "\r\n",
        "**Note:** Addition and Multiplication are the only arithmetic operation we can do with strings. Subtraction, division, etc. are not viable operations with this data type. "
      ]
    },
    {
      "cell_type": "code",
      "metadata": {
        "id": "axrKheEgWtq7",
        "colab": {
          "base_uri": "https://localhost:8080/"
        },
        "outputId": "6b293fd6-3ded-49cc-806c-c60e3e6f1899"
      },
      "source": [
        " print(\"python\" + \"notebook\")\r\n",
        " print(\"python\" * 2)\r\n",
        " "
      ],
      "execution_count": 5,
      "outputs": [
        {
          "output_type": "stream",
          "text": [
            "pythonnotebook\n",
            "pythonpython\n"
          ],
          "name": "stdout"
        }
      ]
    },
    {
      "cell_type": "markdown",
      "metadata": {
        "id": "flivWBcoZU9m"
      },
      "source": [
        "Functions that evaluate expressions return the resulting type:"
      ]
    },
    {
      "cell_type": "code",
      "metadata": {
        "id": "YgjxASRg-hka",
        "outputId": "fbd8d337-3aed-453d-e40b-92663c396068",
        "colab": {
          "base_uri": "https://localhost:8080/"
        }
      },
      "source": [
        "y = 5 < 10\r\n",
        "\r\n",
        "print(f\"y is: {y}\")\r\n",
        "type(y)"
      ],
      "execution_count": 7,
      "outputs": [
        {
          "output_type": "stream",
          "text": [
            "y is: True\n"
          ],
          "name": "stdout"
        },
        {
          "output_type": "execute_result",
          "data": {
            "text/plain": [
              "bool"
            ]
          },
          "metadata": {
            "tags": []
          },
          "execution_count": 7
        }
      ]
    },
    {
      "cell_type": "markdown",
      "metadata": {
        "id": "QZmPGic_Znv-"
      },
      "source": [
        "In arithmetic expressions, `True` is converted to `1` and `False` is converted `0`.\n",
        "\n",
        "This is called **Boolean arithmetic**. It's a surprisingly rich field of mathematics and very useful in programming!\n",
        "\n",
        "Here are some examples:"
      ]
    },
    {
      "cell_type": "code",
      "metadata": {
        "id": "W_i2OPVoZe-5",
        "outputId": "f834e19b-e418-4d18-8f57-f969a35fcccb",
        "colab": {
          "base_uri": "https://localhost:8080/"
        }
      },
      "source": [
        "bool_list = [True, False, False, True]\r\n",
        "sum(bool_list)"
      ],
      "execution_count": 8,
      "outputs": [
        {
          "output_type": "execute_result",
          "data": {
            "text/plain": [
              "2"
            ]
          },
          "metadata": {
            "tags": []
          },
          "execution_count": 8
        }
      ]
    },
    {
      "cell_type": "code",
      "metadata": {
        "id": "FLvwZkRlECuw",
        "outputId": "0c13b428-b3fd-4f79-f744-48b3bdf56621",
        "colab": {
          "base_uri": "https://localhost:8080/"
        }
      },
      "source": [
        "True + True"
      ],
      "execution_count": 10,
      "outputs": [
        {
          "output_type": "execute_result",
          "data": {
            "text/plain": [
              "2"
            ]
          },
          "metadata": {
            "tags": []
          },
          "execution_count": 10
        }
      ]
    },
    {
      "cell_type": "code",
      "metadata": {
        "id": "vEl1HlHkECux",
        "outputId": "af061cb2-67a4-4b76-9bbf-597884e9b8c1",
        "colab": {
          "base_uri": "https://localhost:8080/"
        }
      },
      "source": [
        "True*5*False"
      ],
      "execution_count": 11,
      "outputs": [
        {
          "output_type": "execute_result",
          "data": {
            "text/plain": [
              "0"
            ]
          },
          "metadata": {
            "tags": []
          },
          "execution_count": 11
        }
      ]
    },
    {
      "cell_type": "markdown",
      "metadata": {
        "id": "vCCiMvZgGqOw"
      },
      "source": [
        "#Boolean Conditionals\r\n",
        "\r\n",
        "As mentioned above, Boolean statements are simply statements that evaluate to True or False and using this, we can create code that executes based on whether the data we're given fits a certain criteria.\r\n",
        "\r\n",
        "For Example:"
      ]
    },
    {
      "cell_type": "code",
      "metadata": {
        "id": "OvPWElBlHMsj",
        "outputId": "b32f1f84-f995-4f4e-de82-e478f5f34d26",
        "colab": {
          "base_uri": "https://localhost:8080/"
        }
      },
      "source": [
        "x = 5\r\n",
        "if x == 5:\r\n",
        "  print(\"x is 5!\")"
      ],
      "execution_count": 13,
      "outputs": [
        {
          "output_type": "stream",
          "text": [
            "x is 5!\n"
          ],
          "name": "stdout"
        }
      ]
    },
    {
      "cell_type": "markdown",
      "metadata": {
        "id": "0YOGBfqsHf0p"
      },
      "source": [
        "Since the statement x==5 evaluated to True, Python was able to print out the message. Let's see what happens if x isn't equal to 5."
      ]
    },
    {
      "cell_type": "code",
      "metadata": {
        "id": "21yaXiJ6H9oz"
      },
      "source": [
        "x = 3\r\n",
        "if x == 5:\r\n",
        "  print(\"x is 5!\")"
      ],
      "execution_count": 14,
      "outputs": []
    },
    {
      "cell_type": "markdown",
      "metadata": {
        "id": "FOHM9jrjH7_s"
      },
      "source": [
        "As you can see, since x was not equal to 5, the boolean condition of x = 5 evaluated to False and Python did not execute the print command. We will see more of this when we talk about loops.\r\n",
        "\r\n",
        "###Converting Between Data Types\r\n",
        "\r\n",
        "Sometimes when programming, we run into issues where we need to convert between the data types. Ex. We wanted to multiply a number by another number but since one of the numbers was a string, the operation failed."
      ]
    },
    {
      "cell_type": "code",
      "metadata": {
        "id": "mYNPrYY5gYtH",
        "outputId": "23209e52-3d5d-4b5f-e364-573ac0660902",
        "colab": {
          "base_uri": "https://localhost:8080/",
          "height": 212
        }
      },
      "source": [
        "\"5\" + 0"
      ],
      "execution_count": 15,
      "outputs": [
        {
          "output_type": "error",
          "ename": "TypeError",
          "evalue": "ignored",
          "traceback": [
            "\u001b[0;31m---------------------------------------------------------------------------\u001b[0m",
            "\u001b[0;31mTypeError\u001b[0m                                 Traceback (most recent call last)",
            "\u001b[0;32m<ipython-input-15-5f38e3dcfaa5>\u001b[0m in \u001b[0;36m<module>\u001b[0;34m()\u001b[0m\n\u001b[0;32m----> 1\u001b[0;31m \u001b[0;34m\"S\"\u001b[0m \u001b[0;34m+\u001b[0m \u001b[0;36m0\u001b[0m\u001b[0;34m\u001b[0m\u001b[0;34m\u001b[0m\u001b[0m\n\u001b[0m",
            "\u001b[0;31mTypeError\u001b[0m: must be str, not int"
          ]
        }
      ]
    },
    {
      "cell_type": "markdown",
      "metadata": {
        "id": "JYX3PdBkgcoM"
      },
      "source": [
        "Instead, we can use Python to convert between data types when such an issue arises."
      ]
    },
    {
      "cell_type": "code",
      "metadata": {
        "id": "A17UXhUhhXgq",
        "outputId": "19441bef-e808-4359-f9ab-b110f6fab1b5",
        "colab": {
          "base_uri": "https://localhost:8080/"
        }
      },
      "source": [
        "int(\"5\") - 0"
      ],
      "execution_count": 16,
      "outputs": [
        {
          "output_type": "execute_result",
          "data": {
            "text/plain": [
              "5"
            ]
          },
          "metadata": {
            "tags": []
          },
          "execution_count": 16
        }
      ]
    },
    {
      "cell_type": "code",
      "metadata": {
        "colab": {
          "base_uri": "https://localhost:8080/"
        },
        "id": "MWGb-BlXhhC4",
        "outputId": "efa1825e-cea0-4154-b291-dcf59e8c74c6"
      },
      "source": [
        "# examples of data conversions\r\n",
        "A = float(5)\r\n",
        "B = str(5)\r\n",
        "C = int(4.5)\r\n",
        "\r\n",
        "print (A)\r\n",
        "print (B)\r\n",
        "print (C)"
      ],
      "execution_count": null,
      "outputs": [
        {
          "output_type": "stream",
          "text": [
            "5.0\n",
            "5\n",
            "4\n"
          ],
          "name": "stdout"
        }
      ]
    },
    {
      "cell_type": "markdown",
      "metadata": {
        "id": "KBXm98_2aDao"
      },
      "source": [
        "# Containers\n",
        "\n",
        "Containers are types that store collections of (not necessarily type-homogeneous) data. \n",
        "\n",
        "**NOTE: The individual entries in a list can be referred to as \"Elements\"**\n",
        "\n",
        "# Lists\n",
        "\n",
        "Square Brackets denote python `list`:"
      ]
    },
    {
      "cell_type": "code",
      "metadata": {
        "id": "Ung5v4lgECuy",
        "outputId": "04f716cb-2efb-4efe-c4dd-a5aa84d3629a",
        "colab": {
          "base_uri": "https://localhost:8080/"
        }
      },
      "source": [
        "A = [3,5,6,7,8,9,3, False, True]\r\n",
        "A"
      ],
      "execution_count": 17,
      "outputs": [
        {
          "output_type": "execute_result",
          "data": {
            "text/plain": [
              "[3, 5, 6, 7, 8, 9, 3, False, True]"
            ]
          },
          "metadata": {
            "tags": []
          },
          "execution_count": 17
        }
      ]
    },
    {
      "cell_type": "code",
      "metadata": {
        "id": "4TjvO7f3ECuz",
        "outputId": "f312132b-8307-4c29-83ee-97e5408c786a",
        "colab": {
          "base_uri": "https://localhost:8080/"
        }
      },
      "source": [
        "#to add to a list\r\n",
        "A.append(\"String\")\r\n",
        "A"
      ],
      "execution_count": 18,
      "outputs": [
        {
          "output_type": "execute_result",
          "data": {
            "text/plain": [
              "[3, 5, 6, 7, 8, 9, 3, False, True, 'String']"
            ]
          },
          "metadata": {
            "tags": []
          },
          "execution_count": 18
        }
      ]
    },
    {
      "cell_type": "markdown",
      "metadata": {
        "id": "-bWzf7UBECu0"
      },
      "source": [
        "You can put objects into lists. Note that the object in the list is just a **reference** to the underlying object:"
      ]
    },
    {
      "cell_type": "code",
      "metadata": {
        "id": "uYeIEmBaECu1",
        "outputId": "02f77580-5e08-4520-d8af-5bd7e66a63ba",
        "colab": {
          "base_uri": "https://localhost:8080/"
        }
      },
      "source": [
        "b = [\"cat\", \"dog\"]\r\n",
        "A.append(b)\r\n",
        "A\r\n",
        "\r\n",
        "#to update B\r\n",
        "\r\n",
        "b.append(\"mouse\")\r\n",
        "A"
      ],
      "execution_count": 20,
      "outputs": [
        {
          "output_type": "execute_result",
          "data": {
            "text/plain": [
              "[3,\n",
              " 5,\n",
              " 6,\n",
              " 7,\n",
              " 8,\n",
              " 9,\n",
              " 3,\n",
              " False,\n",
              " True,\n",
              " 'String',\n",
              " ['cat', 'dog'],\n",
              " ['cat', 'dog', 'mouse']]"
            ]
          },
          "metadata": {
            "tags": []
          },
          "execution_count": 20
        }
      ]
    },
    {
      "cell_type": "markdown",
      "metadata": {
        "id": "NWCjXHWAECu2"
      },
      "source": [
        "Now if we change `b` then the value will change in `a`"
      ]
    },
    {
      "cell_type": "code",
      "metadata": {
        "id": "YCOvpvz3ECu3",
        "outputId": "2e95c169-ee8d-4939-ec73-160ff7223aa3",
        "colab": {
          "base_uri": "https://localhost:8080/"
        }
      },
      "source": [
        "#0 index, to access 3rd element, use 2\r\n",
        "A[2]"
      ],
      "execution_count": 21,
      "outputs": [
        {
          "output_type": "execute_result",
          "data": {
            "text/plain": [
              "6"
            ]
          },
          "metadata": {
            "tags": []
          },
          "execution_count": 21
        }
      ]
    },
    {
      "cell_type": "markdown",
      "metadata": {
        "id": "787Fx3EoECu3"
      },
      "source": [
        "A handy feature common to all containers is that you can \"pick out\" or call individual elements using brackets. **NOTE: The types of brackets matter when calling elements of different containers**"
      ]
    },
    {
      "cell_type": "code",
      "metadata": {
        "id": "oznT1BkFECu4",
        "outputId": "0626c71b-6de5-4262-e685-35899a9a4be6",
        "colab": {
          "base_uri": "https://localhost:8080/"
        }
      },
      "source": [
        "#curly brackets for dictionaries and sets\r\n",
        "A[2]"
      ],
      "execution_count": 23,
      "outputs": [
        {
          "output_type": "execute_result",
          "data": {
            "text/plain": [
              "6"
            ]
          },
          "metadata": {
            "tags": []
          },
          "execution_count": 23
        }
      ]
    },
    {
      "cell_type": "markdown",
      "metadata": {
        "id": "A2QRDwKAECu5"
      },
      "source": [
        "Note that element `#3` is actually the **fourth element** because Python *always counts from zero*.\n",
        "\n",
        "There are certain advantages to starting from 0 over 1 but overall, it's not any better or worse than coding on a language that indexes starting from 1.\n",
        "\n",
        "We can also **slice** using the colon in the square bracket. Slicing is a method that allows us to call multiple entries in a list between a starting and ending index that we set:"
      ]
    },
    {
      "cell_type": "code",
      "metadata": {
        "id": "LL9zxzx3ECu5",
        "outputId": "2bf18591-0474-42d8-b351-78b2698e376c",
        "colab": {
          "base_uri": "https://localhost:8080/"
        }
      },
      "source": [
        "A[0:4]"
      ],
      "execution_count": 24,
      "outputs": [
        {
          "output_type": "execute_result",
          "data": {
            "text/plain": [
              "[3, 5, 6, 7]"
            ]
          },
          "metadata": {
            "tags": []
          },
          "execution_count": 24
        }
      ]
    },
    {
      "cell_type": "markdown",
      "metadata": {
        "id": "qjIM42MoLlqJ"
      },
      "source": [
        "**NOTE:** When slicing, while Python does call the starting index, it *does not* call the ending index as Python counts from 0."
      ]
    },
    {
      "cell_type": "code",
      "metadata": {
        "id": "7YBQ_K6oLeeC",
        "outputId": "4dbd13a5-a690-4e5b-f23d-b3aa5944e860",
        "colab": {
          "base_uri": "https://localhost:8080/"
        }
      },
      "source": [
        "A[4]"
      ],
      "execution_count": 26,
      "outputs": [
        {
          "output_type": "execute_result",
          "data": {
            "text/plain": [
              "8"
            ]
          },
          "metadata": {
            "tags": []
          },
          "execution_count": 26
        }
      ]
    },
    {
      "cell_type": "markdown",
      "metadata": {
        "id": "8_Pcnf3vMhWn"
      },
      "source": [
        "As you can see, the element with index 5 is 999 and was not called in the above slice. "
      ]
    },
    {
      "cell_type": "markdown",
      "metadata": {
        "id": "2Ys_BtXqECu6"
      },
      "source": [
        "The general rule is that `a[m:n]` returns `n - m` elements, starting at `a[m]`.\n",
        "\n",
        "Negative numbers also work and **go back from the first element**"
      ]
    },
    {
      "cell_type": "code",
      "metadata": {
        "id": "TEGZSl3QECu7",
        "outputId": "6535834d-7ab9-4c42-d3cb-f497cfca856c",
        "colab": {
          "base_uri": "https://localhost:8080/"
        }
      },
      "source": [
        "A[-1]"
      ],
      "execution_count": 27,
      "outputs": [
        {
          "output_type": "execute_result",
          "data": {
            "text/plain": [
              "['cat', 'dog', 'mouse']"
            ]
          },
          "metadata": {
            "tags": []
          },
          "execution_count": 27
        }
      ]
    },
    {
      "cell_type": "code",
      "metadata": {
        "id": "FYzcxBbIECu8",
        "outputId": "4f67e05b-26dc-4e56-a817-3f2e0875a9cd",
        "colab": {
          "base_uri": "https://localhost:8080/"
        }
      },
      "source": [
        "A[-4:-1]\r\n",
        "A[2:] # from elemtn till end"
      ],
      "execution_count": 33,
      "outputs": [
        {
          "output_type": "execute_result",
          "data": {
            "text/plain": [
              "[6, 7, 8, 9, 3, False, True, 'String', ['cat', 'dog'], ['cat', 'dog', 'mouse']]"
            ]
          },
          "metadata": {
            "tags": []
          },
          "execution_count": 33
        }
      ]
    },
    {
      "cell_type": "markdown",
      "metadata": {
        "id": "Ik0LLZ9BeNvM"
      },
      "source": [
        "Elements in lists can also be overwritten:"
      ]
    },
    {
      "cell_type": "code",
      "metadata": {
        "id": "D3IBpG4EeVpX",
        "outputId": "57527186-235d-4ac7-ac68-6d46625e70e9",
        "colab": {
          "base_uri": "https://localhost:8080/"
        }
      },
      "source": [
        "A[0] = \"First\"\r\n",
        "A"
      ],
      "execution_count": 35,
      "outputs": [
        {
          "output_type": "execute_result",
          "data": {
            "text/plain": [
              "['First',\n",
              " 5,\n",
              " 6,\n",
              " 7,\n",
              " 8,\n",
              " 9,\n",
              " 3,\n",
              " False,\n",
              " True,\n",
              " 'String',\n",
              " ['cat', 'dog'],\n",
              " ['cat', 'dog', 'mouse']]"
            ]
          },
          "metadata": {
            "tags": []
          },
          "execution_count": 35
        }
      ]
    },
    {
      "cell_type": "markdown",
      "metadata": {
        "id": "lzrkwQfwbA-s"
      },
      "source": [
        "Here, I replaced the first element in our list with baseball.\r\n",
        "\r\n",
        "###List of Lists\r\n",
        "\r\n",
        "A List of Lists is a list where all the entries or elements are lists themselves. Calling certain elements in this data type requires an additional step. as you can see below.  "
      ]
    },
    {
      "cell_type": "code",
      "metadata": {
        "colab": {
          "base_uri": "https://localhost:8080/"
        },
        "id": "Sfs33MDjbFwE",
        "outputId": "b995a283-addf-423f-fadb-9b99fc68f46e"
      },
      "source": [
        "a = [[1,2],[34,4],[3,4],[5,6]]\r\n",
        "#Slicing the first three elements in a\r\n",
        "print(a[:3])\r\n",
        "#Calling the Second Element in a\r\n",
        "print(a[1])\r\n",
        "#Calling the first entry in the Second Element of a\r\n",
        "print(a[1][0])\r\n",
        "#Slicing the second entry in the first 3 elements of a\r\n",
        "print(a[2:3][0]) #check back \r\n"
      ],
      "execution_count": 40,
      "outputs": [
        {
          "output_type": "stream",
          "text": [
            "[[1, 2], [34, 4], [3, 4]]\n",
            "[34, 4]\n",
            "34\n",
            "[3, 4]\n"
          ],
          "name": "stdout"
        }
      ]
    },
    {
      "cell_type": "markdown",
      "metadata": {
        "id": "YInjKM1KECu8"
      },
      "source": [
        "Note that since strings are effectively containers of single characters we can slice strings as well:"
      ]
    },
    {
      "cell_type": "code",
      "metadata": {
        "id": "jKzUvusdECu8",
        "outputId": "ff23fea0-901f-4041-8c84-f05dcd4d875d",
        "colab": {
          "base_uri": "https://localhost:8080/",
          "height": 36
        }
      },
      "source": [
        "Mystring = \"Journey\"\r\n",
        "Mystring[0:4]"
      ],
      "execution_count": 41,
      "outputs": [
        {
          "output_type": "execute_result",
          "data": {
            "application/vnd.google.colaboratory.intrinsic+json": {
              "type": "string"
            },
            "text/plain": [
              "'Jour'"
            ]
          },
          "metadata": {
            "tags": []
          },
          "execution_count": 41
        }
      ]
    },
    {
      "cell_type": "markdown",
      "metadata": {
        "id": "ggK2ntSAECu9"
      },
      "source": [
        "# Tuples\n",
        "\n",
        "Parentheses denote a python `tuple`. Tuples are the default container: if you put commas between objects it'll default to a tuple."
      ]
    },
    {
      "cell_type": "code",
      "metadata": {
        "id": "tYHkkYTGZ7aR",
        "colab": {
          "base_uri": "https://localhost:8080/"
        },
        "outputId": "7df921e6-a252-4713-b2e4-c947f36409e0"
      },
      "source": [
        "x = ('a', 'b')\n",
        "y = 'a', 'b' # You can skip the brackets\n",
        "print(x)\n",
        "print(x == y)"
      ],
      "execution_count": null,
      "outputs": [
        {
          "output_type": "stream",
          "text": [
            "('a', 'b')\n",
            "True\n"
          ],
          "name": "stdout"
        }
      ]
    },
    {
      "cell_type": "markdown",
      "metadata": {
        "id": "8FvKXDGiazOb"
      },
      "source": [
        "Tuples are like lists except they're immutable (e.g. not-mutable; can't be modified)"
      ]
    },
    {
      "cell_type": "code",
      "metadata": {
        "id": "T-QVeva1aywf",
        "colab": {
          "base_uri": "https://localhost:8080/"
        },
        "outputId": "356a65c0-da33-4908-d1bf-7f4e8dab8a6b"
      },
      "source": [
        "x = ('a', 'b')\n",
        "x[0] = \"this will fail\" #can't be updated\n",
        "x[0:2] #tuples can be sliced"
      ],
      "execution_count": 44,
      "outputs": [
        {
          "output_type": "execute_result",
          "data": {
            "text/plain": [
              "('a', 'b')"
            ]
          },
          "metadata": {
            "tags": []
          },
          "execution_count": 44
        }
      ]
    },
    {
      "cell_type": "code",
      "metadata": {
        "id": "YMJKxV_TECu_"
      },
      "source": [
        "l = [True, 0, 5.5]\n",
        "l[0] = \"This works on a list\"\n",
        "l"
      ],
      "execution_count": null,
      "outputs": []
    },
    {
      "cell_type": "markdown",
      "metadata": {
        "id": "7axw1Pynagx-"
      },
      "source": [
        "Watch out: Leaving an accidental comma after an expression will convert it into a tuple with an empty second element:"
      ]
    },
    {
      "cell_type": "code",
      "metadata": {
        "id": "lPFHKjv8af2T",
        "outputId": "5b8aa0d4-37e2-46bd-a870-b554eccb149f",
        "colab": {
          "base_uri": "https://localhost:8080/"
        }
      },
      "source": [
        "x = 5,\n",
        "print(f\"X is a {type(x)}\")\n",
        "x"
      ],
      "execution_count": 47,
      "outputs": [
        {
          "output_type": "stream",
          "text": [
            "X is a <class 'tuple'>\n"
          ],
          "name": "stdout"
        },
        {
          "output_type": "execute_result",
          "data": {
            "text/plain": [
              "(5,)"
            ]
          },
          "metadata": {
            "tags": []
          },
          "execution_count": 47
        }
      ]
    },
    {
      "cell_type": "markdown",
      "metadata": {
        "id": "85gjW-b5ECvA"
      },
      "source": [
        "# Set\n",
        "\n",
        "A **set** is a container where objects are forced to be unique. It's denoted by the *curly brackets*"
      ]
    },
    {
      "cell_type": "code",
      "metadata": {
        "id": "5LeVIYrFECvB",
        "outputId": "930a6776-b28c-466d-e976-6c8663eb91a4",
        "colab": {
          "base_uri": "https://localhost:8080/"
        }
      },
      "source": [
        "s = {1,1,1,1,2}\r\n",
        "print(type(s))\r\n",
        "s"
      ],
      "execution_count": 50,
      "outputs": [
        {
          "output_type": "stream",
          "text": [
            "<class 'set'>\n"
          ],
          "name": "stdout"
        },
        {
          "output_type": "execute_result",
          "data": {
            "text/plain": [
              "{1, 2}"
            ]
          },
          "metadata": {
            "tags": []
          },
          "execution_count": 50
        }
      ]
    },
    {
      "cell_type": "code",
      "metadata": {
        "id": "ZZyYJ1qznYsf",
        "outputId": "f563a967-eef5-4bc2-e6d6-cae201903439",
        "colab": {
          "base_uri": "https://localhost:8080/"
        }
      },
      "source": [
        "#removing duplicates by converting list into set and reconverting to list\r\n",
        "d = [1,2,34,2,1,1,1,5]\r\n",
        "list(set(d))"
      ],
      "execution_count": 52,
      "outputs": [
        {
          "output_type": "execute_result",
          "data": {
            "text/plain": [
              "[1, 2, 34, 5]"
            ]
          },
          "metadata": {
            "tags": []
          },
          "execution_count": 52
        }
      ]
    },
    {
      "cell_type": "markdown",
      "metadata": {
        "id": "MRzT9zpOECvE"
      },
      "source": [
        "# Associative Containers\n",
        "\n",
        "The python `dict` is an \"associative array\" or a \"map\" -- it associates (maps) values to other values"
      ]
    },
    {
      "cell_type": "code",
      "metadata": {
        "id": "vtCi7vj-awp7",
        "outputId": "6ce50256-0216-4391-ba95-6c233368744c",
        "colab": {
          "base_uri": "https://localhost:8080/"
        }
      },
      "source": [
        "d = {'name': 'Sam', \n",
        "     'age': 31,\n",
        "     'race': 'hobbit',\n",
        "}\n",
        "type(d)"
      ],
      "execution_count": 55,
      "outputs": [
        {
          "output_type": "execute_result",
          "data": {
            "text/plain": [
              "dict"
            ]
          },
          "metadata": {
            "tags": []
          },
          "execution_count": 55
        }
      ]
    },
    {
      "cell_type": "markdown",
      "metadata": {
        "id": "AvV7AEykECvG"
      },
      "source": [
        "One way to think of dictionaries is that they are like lists except that the items are named instead of numbered"
      ]
    },
    {
      "cell_type": "code",
      "metadata": {
        "id": "sYyneinqawsh",
        "outputId": "18aa9595-862b-4a8d-fecf-78a0334ab424",
        "colab": {
          "base_uri": "https://localhost:8080/",
          "height": 36
        }
      },
      "source": [
        "d[\"name\"]"
      ],
      "execution_count": 56,
      "outputs": [
        {
          "output_type": "execute_result",
          "data": {
            "application/vnd.google.colaboratory.intrinsic+json": {
              "type": "string"
            },
            "text/plain": [
              "'Sam'"
            ]
          },
          "metadata": {
            "tags": []
          },
          "execution_count": 56
        }
      ]
    },
    {
      "cell_type": "markdown",
      "metadata": {
        "id": "zv1yPAAwECvJ"
      },
      "source": [
        "The names `'name'` and `'age'` are called the *keys*.\n",
        "\n",
        "Keys are unique in a dictionary, so resetting a key will change the mapping.\n",
        "\n",
        "This is why sets and dictionaries both use curly brackets (the keys are a set)"
      ]
    },
    {
      "cell_type": "code",
      "metadata": {
        "id": "UcaypW25ECvJ"
      },
      "source": [
        "#to print all keys\r\n",
        "print(d.keys())\r\n",
        "#print all values\r\n",
        "\r\n",
        "print(d.values())\r\n",
        "\r\n"
      ],
      "execution_count": null,
      "outputs": []
    },
    {
      "cell_type": "code",
      "metadata": {
        "id": "yzVuL_RVECvJ",
        "outputId": "02eabe2d-5ae6-42d9-a03d-523a10674e4f",
        "colab": {
          "base_uri": "https://localhost:8080/"
        }
      },
      "source": [
        "#dictionaries can be changed\r\n",
        "d[\"name\"] = \"Samantha\"\r\n",
        "d"
      ],
      "execution_count": 58,
      "outputs": [
        {
          "output_type": "execute_result",
          "data": {
            "text/plain": [
              "{'age': 31, 'name': 'Samantha', 'race': 'hobbit'}"
            ]
          },
          "metadata": {
            "tags": []
          },
          "execution_count": 58
        }
      ]
    },
    {
      "cell_type": "markdown",
      "metadata": {
        "id": "nWTbLQKuEgUI"
      },
      "source": [
        "##Arrays\r\n",
        "\r\n",
        "Arrays are containers that carry mainly numeric information. For example, if I had a matrix:\r\n",
        "\r\n",
        "$$\\begin{bmatrix} 1 & 2 & 1 \\\\ 3 & 0 & 1 \\\\ 0 & 2 & 4 \\end{bmatrix}$$\r\n",
        "\r\n",
        "The way I could represent this in python is by using an array. The package that deals with arrays and array calculations is called \"Numpy\"."
      ]
    },
    {
      "cell_type": "code",
      "metadata": {
        "id": "mD4tHx2LFb0B",
        "outputId": "049fba4a-6e9d-4c83-e0db-ac0dc16af7b5",
        "colab": {
          "base_uri": "https://localhost:8080/"
        }
      },
      "source": [
        "import numpy as np\r\n",
        "matrix = [[1,2,1],[3,0,1],[0,2,4]]\r\n",
        "print(matrix)\r\n",
        "Matrix = np.array(matrix)\r\n",
        "print(Matrix)"
      ],
      "execution_count": 63,
      "outputs": [
        {
          "output_type": "stream",
          "text": [
            "[[1, 2, 1], [3, 0, 1], [0, 2, 4]]\n",
            "[[1 2 1]\n",
            " [3 0 1]\n",
            " [0 2 4]]\n"
          ],
          "name": "stdout"
        }
      ]
    },
    {
      "cell_type": "markdown",
      "metadata": {
        "id": "hjV55ld_ky2z"
      },
      "source": [
        "Arrays are different from lists of lists in that I can carry out operations **elementwise**"
      ]
    },
    {
      "cell_type": "code",
      "metadata": {
        "id": "y34NHfKVkvPv",
        "outputId": "6dbb0733-8e2d-4ac0-c16d-2b362b55b327",
        "colab": {
          "base_uri": "https://localhost:8080/"
        }
      },
      "source": [
        "#works on arrays\r\n",
        "Matrix + 5"
      ],
      "execution_count": 69,
      "outputs": [
        {
          "output_type": "execute_result",
          "data": {
            "text/plain": [
              "array([[6, 7, 6],\n",
              "       [8, 5, 6],\n",
              "       [5, 7, 9]])"
            ]
          },
          "metadata": {
            "tags": []
          },
          "execution_count": 69
        }
      ]
    },
    {
      "cell_type": "code",
      "metadata": {
        "id": "s8Y3zhDEFBop",
        "outputId": "7f3cb779-47ec-4d11-b8f6-40fbb4737549",
        "colab": {
          "base_uri": "https://localhost:8080/",
          "height": 230
        }
      },
      "source": [
        "#doesnt work on lists\r\n",
        "matrix + 5"
      ],
      "execution_count": 68,
      "outputs": [
        {
          "output_type": "error",
          "ename": "TypeError",
          "evalue": "ignored",
          "traceback": [
            "\u001b[0;31m---------------------------------------------------------------------------\u001b[0m",
            "\u001b[0;31mTypeError\u001b[0m                                 Traceback (most recent call last)",
            "\u001b[0;32m<ipython-input-68-0453df3c3b2c>\u001b[0m in \u001b[0;36m<module>\u001b[0;34m()\u001b[0m\n\u001b[1;32m      1\u001b[0m \u001b[0;31m#doesnt work on lists\u001b[0m\u001b[0;34m\u001b[0m\u001b[0;34m\u001b[0m\u001b[0;34m\u001b[0m\u001b[0m\n\u001b[0;32m----> 2\u001b[0;31m \u001b[0mmatrix\u001b[0m \u001b[0;34m+\u001b[0m \u001b[0;36m5\u001b[0m\u001b[0;34m\u001b[0m\u001b[0;34m\u001b[0m\u001b[0m\n\u001b[0m",
            "\u001b[0;31mTypeError\u001b[0m: can only concatenate list (not \"int\") to list"
          ]
        }
      ]
    },
    {
      "cell_type": "markdown",
      "metadata": {
        "id": "5L5g5Yq7nMNX"
      },
      "source": [
        "As you can see above, I was able to add 5 to every element in the array but ran into an error when I ran the same code with a list of lists. Arrays also have the added benefit of having their elements called with Boolean Statements."
      ]
    },
    {
      "cell_type": "code",
      "metadata": {
        "id": "BK-P5uJSn5et",
        "outputId": "4f227cb4-cf62-4c07-be5a-ac5250245442",
        "colab": {
          "base_uri": "https://localhost:8080/"
        }
      },
      "source": [
        "Matrix[:2,1] \r\n"
      ],
      "execution_count": 75,
      "outputs": [
        {
          "output_type": "execute_result",
          "data": {
            "text/plain": [
              "array([2, 0])"
            ]
          },
          "metadata": {
            "tags": []
          },
          "execution_count": 75
        }
      ]
    },
    {
      "cell_type": "code",
      "metadata": {
        "id": "Ykzdu36Wow9o",
        "outputId": "e63db2c2-a686-47c4-af54-bc45c3b903d0",
        "colab": {
          "base_uri": "https://localhost:8080/"
        }
      },
      "source": [
        "Matrix[Matrix < 5]\r\n",
        "lis = [2,4,5,6,7,8,9]\r\n",
        "lis = np.array(lis)\r\n",
        "x = lis[lis<=6]\r\n",
        "lis = list(x)\r\n",
        "print(x)\r\n",
        "#or this in 1 line: \r\n",
        "#lis = list(lis[lis<=6])"
      ],
      "execution_count": 82,
      "outputs": [
        {
          "output_type": "stream",
          "text": [
            "[2 4 5 6]\n"
          ],
          "name": "stdout"
        }
      ]
    },
    {
      "cell_type": "markdown",
      "metadata": {
        "id": "Lfx0ZYhTqR1U"
      },
      "source": [
        "#Data Frames\r\n",
        "\r\n",
        "Lastly, is the most commonly used data container in data science, Data Frames. Data Frames are a versatile container as they can store multiple types of data inside it and provide corresponding labels for them. The package that handles data frames is \"pandas\"."
      ]
    },
    {
      "cell_type": "code",
      "metadata": {
        "colab": {
          "base_uri": "https://localhost:8080/",
          "height": 226
        },
        "id": "zPsKBFWPqIZm",
        "outputId": "d709d186-e322-4ebb-abc5-29af080a5770"
      },
      "source": [
        "#Creating a data frame\r\n",
        "import pandas as pd\r\n",
        "s = pd.Series([1, 3, 5, np.nan, 6, 8])\r\n",
        "dates = pd.date_range(\"20130101\", periods=6)\r\n",
        "df = pd.DataFrame(np.random.randn(6, 4), index=dates, columns=list(\"ABCD\"))\r\n",
        "df\r\n"
      ],
      "execution_count": null,
      "outputs": [
        {
          "output_type": "execute_result",
          "data": {
            "text/html": [
              "<div>\n",
              "<style scoped>\n",
              "    .dataframe tbody tr th:only-of-type {\n",
              "        vertical-align: middle;\n",
              "    }\n",
              "\n",
              "    .dataframe tbody tr th {\n",
              "        vertical-align: top;\n",
              "    }\n",
              "\n",
              "    .dataframe thead th {\n",
              "        text-align: right;\n",
              "    }\n",
              "</style>\n",
              "<table border=\"1\" class=\"dataframe\">\n",
              "  <thead>\n",
              "    <tr style=\"text-align: right;\">\n",
              "      <th></th>\n",
              "      <th>A</th>\n",
              "      <th>B</th>\n",
              "      <th>C</th>\n",
              "      <th>D</th>\n",
              "    </tr>\n",
              "  </thead>\n",
              "  <tbody>\n",
              "    <tr>\n",
              "      <th>2013-01-01</th>\n",
              "      <td>-0.873197</td>\n",
              "      <td>0.883904</td>\n",
              "      <td>0.804738</td>\n",
              "      <td>-1.135271</td>\n",
              "    </tr>\n",
              "    <tr>\n",
              "      <th>2013-01-02</th>\n",
              "      <td>2.902201</td>\n",
              "      <td>1.507966</td>\n",
              "      <td>0.626154</td>\n",
              "      <td>-0.834217</td>\n",
              "    </tr>\n",
              "    <tr>\n",
              "      <th>2013-01-03</th>\n",
              "      <td>2.562273</td>\n",
              "      <td>-1.353514</td>\n",
              "      <td>-1.433148</td>\n",
              "      <td>-0.246318</td>\n",
              "    </tr>\n",
              "    <tr>\n",
              "      <th>2013-01-04</th>\n",
              "      <td>0.574619</td>\n",
              "      <td>-0.201205</td>\n",
              "      <td>-1.657429</td>\n",
              "      <td>0.077034</td>\n",
              "    </tr>\n",
              "    <tr>\n",
              "      <th>2013-01-05</th>\n",
              "      <td>-0.058098</td>\n",
              "      <td>2.251630</td>\n",
              "      <td>0.188237</td>\n",
              "      <td>0.103833</td>\n",
              "    </tr>\n",
              "    <tr>\n",
              "      <th>2013-01-06</th>\n",
              "      <td>-1.014063</td>\n",
              "      <td>0.239728</td>\n",
              "      <td>-0.434771</td>\n",
              "      <td>-1.146920</td>\n",
              "    </tr>\n",
              "  </tbody>\n",
              "</table>\n",
              "</div>"
            ],
            "text/plain": [
              "                   A         B         C         D\n",
              "2013-01-01 -0.873197  0.883904  0.804738 -1.135271\n",
              "2013-01-02  2.902201  1.507966  0.626154 -0.834217\n",
              "2013-01-03  2.562273 -1.353514 -1.433148 -0.246318\n",
              "2013-01-04  0.574619 -0.201205 -1.657429  0.077034\n",
              "2013-01-05 -0.058098  2.251630  0.188237  0.103833\n",
              "2013-01-06 -1.014063  0.239728 -0.434771 -1.146920"
            ]
          },
          "metadata": {
            "tags": []
          },
          "execution_count": 76
        }
      ]
    },
    {
      "cell_type": "markdown",
      "metadata": {
        "id": "Iju9V9j2xG6A"
      },
      "source": [
        "Here, I created a dataframe where I generated columns with random numbers attached. We can also append columns as needed to pandas dataframes. Each individual column is knownw as a \"Series."
      ]
    },
    {
      "cell_type": "code",
      "metadata": {
        "colab": {
          "base_uri": "https://localhost:8080/",
          "height": 226
        },
        "id": "tZ-7dS2dwnnP",
        "outputId": "017547f0-3b2c-4f87-88d8-f6c96b61fda0"
      },
      "source": [
        "#Adding a List of fruits as a column in the data frame\r\n",
        "df['E'] = ['Apples', 'Oranges', 'Pears', 'Grapes', 'Banana', 'Guava']\r\n",
        "df"
      ],
      "execution_count": null,
      "outputs": [
        {
          "output_type": "execute_result",
          "data": {
            "text/html": [
              "<div>\n",
              "<style scoped>\n",
              "    .dataframe tbody tr th:only-of-type {\n",
              "        vertical-align: middle;\n",
              "    }\n",
              "\n",
              "    .dataframe tbody tr th {\n",
              "        vertical-align: top;\n",
              "    }\n",
              "\n",
              "    .dataframe thead th {\n",
              "        text-align: right;\n",
              "    }\n",
              "</style>\n",
              "<table border=\"1\" class=\"dataframe\">\n",
              "  <thead>\n",
              "    <tr style=\"text-align: right;\">\n",
              "      <th></th>\n",
              "      <th>A</th>\n",
              "      <th>B</th>\n",
              "      <th>C</th>\n",
              "      <th>D</th>\n",
              "      <th>E</th>\n",
              "    </tr>\n",
              "  </thead>\n",
              "  <tbody>\n",
              "    <tr>\n",
              "      <th>2013-01-01</th>\n",
              "      <td>-0.873197</td>\n",
              "      <td>0.883904</td>\n",
              "      <td>0.804738</td>\n",
              "      <td>-1.135271</td>\n",
              "      <td>Apples</td>\n",
              "    </tr>\n",
              "    <tr>\n",
              "      <th>2013-01-02</th>\n",
              "      <td>2.902201</td>\n",
              "      <td>1.507966</td>\n",
              "      <td>0.626154</td>\n",
              "      <td>-0.834217</td>\n",
              "      <td>Oranges</td>\n",
              "    </tr>\n",
              "    <tr>\n",
              "      <th>2013-01-03</th>\n",
              "      <td>2.562273</td>\n",
              "      <td>-1.353514</td>\n",
              "      <td>-1.433148</td>\n",
              "      <td>-0.246318</td>\n",
              "      <td>Pears</td>\n",
              "    </tr>\n",
              "    <tr>\n",
              "      <th>2013-01-04</th>\n",
              "      <td>0.574619</td>\n",
              "      <td>-0.201205</td>\n",
              "      <td>-1.657429</td>\n",
              "      <td>0.077034</td>\n",
              "      <td>Grapes</td>\n",
              "    </tr>\n",
              "    <tr>\n",
              "      <th>2013-01-05</th>\n",
              "      <td>-0.058098</td>\n",
              "      <td>2.251630</td>\n",
              "      <td>0.188237</td>\n",
              "      <td>0.103833</td>\n",
              "      <td>Banana</td>\n",
              "    </tr>\n",
              "    <tr>\n",
              "      <th>2013-01-06</th>\n",
              "      <td>-1.014063</td>\n",
              "      <td>0.239728</td>\n",
              "      <td>-0.434771</td>\n",
              "      <td>-1.146920</td>\n",
              "      <td>Guava</td>\n",
              "    </tr>\n",
              "  </tbody>\n",
              "</table>\n",
              "</div>"
            ],
            "text/plain": [
              "                   A         B         C         D        E\n",
              "2013-01-01 -0.873197  0.883904  0.804738 -1.135271   Apples\n",
              "2013-01-02  2.902201  1.507966  0.626154 -0.834217  Oranges\n",
              "2013-01-03  2.562273 -1.353514 -1.433148 -0.246318    Pears\n",
              "2013-01-04  0.574619 -0.201205 -1.657429  0.077034   Grapes\n",
              "2013-01-05 -0.058098  2.251630  0.188237  0.103833   Banana\n",
              "2013-01-06 -1.014063  0.239728 -0.434771 -1.146920    Guava"
            ]
          },
          "metadata": {
            "tags": []
          },
          "execution_count": 78
        }
      ]
    },
    {
      "cell_type": "markdown",
      "metadata": {
        "id": "jZlR1euTwZ0q"
      },
      "source": [
        "We'll dive more into the usage of data frames in later workshops as there is quite abit to get when it come to the specifics of manipulating data in a data frame."
      ]
    },
    {
      "cell_type": "markdown",
      "metadata": {
        "id": "lr5XpNh5ouiy"
      },
      "source": [
        "#Converting Between Data Containers\r\n",
        "\r\n",
        "In the same way we can convert between data types, we can convert between data containers as well. As you can see below: "
      ]
    },
    {
      "cell_type": "code",
      "metadata": {
        "colab": {
          "base_uri": "https://localhost:8080/"
        },
        "id": "9VxnxunGECvC",
        "outputId": "d16f9937-8d3f-4ffc-85c8-cdb93ca123d6"
      },
      "source": [
        "#List to Set\n",
        "a = [1,2,3,2,1,4,5,4,2,3,5,77,33]\n",
        "a = set(a)\n",
        "print (a)"
      ],
      "execution_count": null,
      "outputs": [
        {
          "output_type": "stream",
          "text": [
            "{1, 2, 3, 4, 5, 33, 77}\n"
          ],
          "name": "stdout"
        }
      ]
    },
    {
      "cell_type": "code",
      "metadata": {
        "colab": {
          "base_uri": "https://localhost:8080/"
        },
        "id": "KSyd_Z0BqEGX",
        "outputId": "2c39cb57-df0b-47dc-ca60-16e060d91fc7"
      },
      "source": [
        "#Tuple to List\r\n",
        "a = (1,2,3,4,'a','d','f')\r\n",
        "a= list(a)\r\n",
        "print (a)"
      ],
      "execution_count": null,
      "outputs": [
        {
          "output_type": "stream",
          "text": [
            "[1, 2, 3, 4, 'a', 'd', 'f']\n"
          ],
          "name": "stdout"
        }
      ]
    },
    {
      "cell_type": "code",
      "metadata": {
        "colab": {
          "base_uri": "https://localhost:8080/"
        },
        "id": "-AA_EkcM3DMl",
        "outputId": "7960a3d2-a18d-4f58-98f7-472763e3121d"
      },
      "source": [
        "#List to Tuple\r\n",
        "a = [1,2,3,4,5,5,6,67,7]\r\n",
        "a = tuple(a)\r\n",
        "print(a)"
      ],
      "execution_count": null,
      "outputs": [
        {
          "output_type": "stream",
          "text": [
            "(1, 2, 3, 4, 5, 5, 6, 67, 7)\n"
          ],
          "name": "stdout"
        }
      ]
    },
    {
      "cell_type": "code",
      "metadata": {
        "id": "cd34WP1l3Tq4"
      },
      "source": [
        ""
      ],
      "execution_count": null,
      "outputs": []
    }
  ]
}